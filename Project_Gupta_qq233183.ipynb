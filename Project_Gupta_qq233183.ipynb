{
 "cells": [
  {
   "cell_type": "code",
   "execution_count": 643,
   "metadata": {},
   "outputs": [],
   "source": [
    "# Import the necessary libraries\n",
    "\n",
    "import numpy as np\n",
    "import pandas as pd\n",
    "import tensorflow as tf\n",
    "import os\n",
    "import time\n",
    "import warnings\n",
    "warnings.filterwarnings('ignore')\n",
    "\n",
    "# to make this notebook's output stable across runs\n",
    "np.random.seed(123)\n",
    "\n",
    "# To plot pretty figures\n",
    "%matplotlib inline\n",
    "import matplotlib\n",
    "import matplotlib.pyplot as plt\n",
    "plt.rcParams['axes.labelsize'] = 14\n",
    "plt.rcParams['xtick.labelsize'] = 12\n",
    "plt.rcParams['ytick.labelsize'] = 12"
   ]
  },
  {
   "cell_type": "code",
   "execution_count": 644,
   "metadata": {},
   "outputs": [],
   "source": [
    "#####################################\n",
    "# Import the train and test datasets#\n",
    "#####################################\n",
    "\n",
    "empty_set = ['' for i in range(54)]\n",
    "total_features = ['Page Likes', 'Page Checkins', 'Page Talking About', 'Page Category', \n",
    "            'Min CC1', 'Max CC1', 'Average CC1', 'Median CC1', 'Standard Deviation CC1', \n",
    "            'Min CC2', 'Max CC2', 'Average CC2', 'Median CC2', 'Standard Deviation CC2', \n",
    "            'Min CC3', 'Max CC3', 'Average CC3', 'Median CC3', 'Standard Deviation CC3', \n",
    "            'Min CC4', 'Max CC4', 'Average CC4', 'Median CC4', 'Standard Deviation CC4', \n",
    "            'Min CC5', 'Max CC5', 'Average CC5', 'Median CC5', 'Standard Deviation CC5', \n",
    "            'CC1', 'CC2', 'CC3', 'CC4', 'CC5', \n",
    "            'Base Time', 'Post Length', 'Post Share Count', 'Post Promotion Status', 'H Local', \n",
    "            'Sunday_Wk1', 'Monday_WK1', 'Tuesday_WK1', 'Wednesday_WK1', 'Thursday_WK1', 'Friday_WK1', 'Saturday_WK1', \n",
    "            'Sunday_WK2', 'Monday_WK2', 'Tuesday_WK2', 'Wednesday_WK2', 'Thursday_WK2', 'Friday_WK2', 'Saturday_WK2',\n",
    "            'Number of Comments in the Next H Hours']\n",
    "\n",
    "non_categorical_features = ['Page Likes', 'Page Checkins', 'Page Talking About', 'Page Category', \n",
    "            'Min CC1', 'Max CC1', 'Average CC1', 'Median CC1', 'Standard Deviation CC1', \n",
    "            'Min CC2', 'Max CC2', 'Average CC2', 'Median CC2', 'Standard Deviation CC2', \n",
    "            'Min CC3', 'Max CC3', 'Average CC3', 'Median CC3', 'Standard Deviation CC3', \n",
    "            'Min CC4', 'Max CC4', 'Average CC4', 'Median CC4', 'Standard Deviation CC4', \n",
    "            'Min CC5', 'Max CC5', 'Average CC5', 'Median CC5', 'Standard Deviation CC5', \n",
    "            'CC1', 'CC2', 'CC3', 'CC4', 'CC5', \n",
    "            'Base Time', 'Post Length', 'Post Share Count', 'Post Promotion Status', 'H Local']\n",
    "\n",
    "Label_Features = ['Number of Comments in the Next H Hours']\n",
    "\n",
    "num_attribs = list(non_categorical_features)\n",
    "\n",
    "categorical_features = ['Sunday_Wk1', 'Monday_WK1', 'Tuesday_WK1', 'Wednesday_WK1', 'Thursday_WK1', 'Friday_WK1', 'Saturday_WK1', \n",
    "            'Sunday_WK2', 'Monday_WK2', 'Tuesday_WK2', 'Wednesday_WK2', 'Thursday_WK2', 'Friday_WK2', 'Saturday_WK2']\n",
    "\n",
    "cat_attribs = list(categorical_features)\n",
    "\n",
    "#IMPORT THE DATASET- 5 training sets and 5 test sets\n",
    "\n",
    "train_data_1 = pd.read_csv(\"Machine Learning Project/Training/Features_Variant_1.csv\", names = total_features)\n",
    "\n",
    "test_data_1 = pd.read_csv(\"Machine Learning Project/Testing/TestSet/Test_Case_1.csv\", names = total_features)\n",
    "\n",
    "train_data_2 = pd.read_csv(\"Machine Learning Project/Training/Features_Variant_2.csv\", names = total_features)\n",
    "\n",
    "test_data_2 = pd.read_csv(\"Machine Learning Project/Testing/TestSet/Test_Case_2.csv\", names = total_features)\n",
    "\n",
    "train_data_3 = pd.read_csv(\"Machine Learning Project/Training/Features_Variant_3.csv\", names = total_features)\n",
    "\n",
    "test_data_3 = pd.read_csv(\"Machine Learning Project/Testing/TestSet/Test_Case_3.csv\", names = total_features)\n",
    "\n",
    "train_data_4 = pd.read_csv(\"Machine Learning Project/Training/Features_Variant_4.csv\", names = total_features)\n",
    "\n",
    "test_data_4 = pd.read_csv(\"Machine Learning Project/Testing/TestSet/Test_Case_4.csv\", names = total_features)\n",
    "\n",
    "train_data_5 = pd.read_csv(\"Machine Learning Project/Training/Features_Variant_5.csv\", names = total_features)\n",
    "\n",
    "test_data_5 = pd.read_csv(\"Machine Learning Project/Testing/TestSet/Test_Case_5.csv\", names = total_features)"
   ]
  },
  {
   "cell_type": "code",
   "execution_count": 645,
   "metadata": {},
   "outputs": [],
   "source": [
    "# TRAIN LABEL 1\n",
    "Training_Data_1_Features = train_data_1.drop('Number of Comments in the Next H Hours', axis=1)\n",
    "Training_Data_1_Labels = train_data_1['Number of Comments in the Next H Hours']\n",
    "\n",
    "# TRAIN LABELS 2\n",
    "\n",
    "Training_Data_2_Features = train_data_2.drop('Number of Comments in the Next H Hours', axis=1)\n",
    "Training_Data_2_Labels = train_data_2['Number of Comments in the Next H Hours']\n",
    "\n",
    "# TRAIN LABELS 3\n",
    "\n",
    "Training_Data_3_Features = train_data_3.drop('Number of Comments in the Next H Hours', axis=1)\n",
    "Training_Data_3_Labels = train_data_3['Number of Comments in the Next H Hours']\n",
    "\n",
    "# TRAIN LABELS 4\n",
    "\n",
    "Training_Data_4_Features = train_data_4.drop('Number of Comments in the Next H Hours', axis=1)\n",
    "Training_Data_4_Labels = train_data_4['Number of Comments in the Next H Hours']\n",
    "\n",
    "# TRAIN LABELS 5\n",
    "\n",
    "Training_Data_5_Features = train_data_5.drop('Number of Comments in the Next H Hours', axis=1)\n",
    "Training_Data_5_Labels = train_data_5['Number of Comments in the Next H Hours']"
   ]
  },
  {
   "cell_type": "code",
   "execution_count": 646,
   "metadata": {},
   "outputs": [],
   "source": [
    "##########################################\n",
    "# Drop the target labels from the test set\n",
    "##########################################\n",
    "\n",
    "# TEST LABELS 1\n",
    "\n",
    "Test_Data_1_Features = test_data_1.drop('Number of Comments in the Next H Hours', axis=1)\n",
    "Test_Data_1_Labels = test_data_1['Number of Comments in the Next H Hours']\n",
    "\n",
    "# TEST LABELS 2\n",
    "\n",
    "Test_Data_2_Features = test_data_2.drop('Number of Comments in the Next H Hours', axis=1)\n",
    "Test_Data_2_Labels = test_data_2['Number of Comments in the Next H Hours']\n",
    "\n",
    "# TEST LABELS 3\n",
    "\n",
    "Test_Data_3_Features = test_data_3.drop('Number of Comments in the Next H Hours', axis=1)\n",
    "Test_Data_3_Labels = test_data_3['Number of Comments in the Next H Hours']\n",
    "\n",
    "# TEST LABELS 4\n",
    "\n",
    "Test_Data_4_Features = test_data_4.drop('Number of Comments in the Next H Hours', axis=1)\n",
    "Test_Data_4_Labels = test_data_4['Number of Comments in the Next H Hours']\n",
    "\n",
    "# TEST LABELS 5\n",
    "\n",
    "Test_Data_5_Features = test_data_5.drop('Number of Comments in the Next H Hours', axis=1)\n",
    "Test_Data_5_Labels = test_data_5['Number of Comments in the Next H Hours']"
   ]
  },
  {
   "cell_type": "code",
   "execution_count": 647,
   "metadata": {},
   "outputs": [],
   "source": [
    "## Body for Data Frame Selector\n",
    "from sklearn.base import BaseEstimator, TransformerMixin\n",
    "from sklearn.pipeline import Pipeline\n",
    "from sklearn.preprocessing import StandardScaler\n",
    "\n",
    "# Create a class to select numerical or categorical columns \n",
    "# since Scikit-Learn doesn't handle DataFrames yet\n",
    "class DataFrameSelector(BaseEstimator, TransformerMixin):\n",
    "    def __init__(self, attribute_names):\n",
    "        self.attribute_names = attribute_names\n",
    "    def fit(self, X, y=None):\n",
    "        return self\n",
    "    def transform(self, X):\n",
    "        return X[self.attribute_names].values\n",
    "\n",
    "num_pipeline = Pipeline([\n",
    "        ('selector', DataFrameSelector(num_attribs)),\n",
    "        ('std_scaler', StandardScaler()),\n",
    "    ])\n",
    "\n",
    "cat_pipeline = Pipeline([\n",
    "        ('selector', DataFrameSelector(cat_attribs))\n",
    "    ])\n",
    "\n",
    "\n",
    "from sklearn.pipeline import FeatureUnion\n",
    "\n",
    "full_pipeline = FeatureUnion(transformer_list=[\n",
    "            (\"num_pipeline\", num_pipeline),\n",
    "            (\"cat_pipeline\", cat_pipeline)\n",
    "    \n",
    "    ])\n"
   ]
  },
  {
   "cell_type": "code",
   "execution_count": 648,
   "metadata": {},
   "outputs": [],
   "source": [
    "# Num pipeline for the labels.\n",
    "from sklearn.preprocessing import StandardScaler\n",
    "\n",
    "number_pipeline = StandardScaler()"
   ]
  },
  {
   "cell_type": "code",
   "execution_count": 649,
   "metadata": {},
   "outputs": [],
   "source": [
    "# Now run this pipeline on training and test sets. transform the training data and test data's features and labels\n",
    "\n",
    "#SET 1\n",
    "Training_Data_1_Features = full_pipeline.fit_transform(Training_Data_1_Features)\n",
    "Training_Data_1_Labels = number_pipeline.fit_transform(Training_Data_1_Labels.reshape(-1,1))\n",
    "\n",
    "Test_Data_1_Features = full_pipeline.transform(Test_Data_1_Features)\n",
    "Test_Data_1_Labels = number_pipeline.transform(Test_Data_1_Labels.reshape(-1,1))\n",
    "\n",
    "#SET 2\n",
    "Training_Data_2_Features = full_pipeline.fit_transform(Training_Data_2_Features)\n",
    "Training_Data_2_Labels = number_pipeline.fit_transform(Training_Data_2_Labels.reshape(-1,1))\n",
    "\n",
    "Test_Data_2_Features = full_pipeline.transform(Test_Data_2_Features)\n",
    "Test_Data_2_Labels = number_pipeline.transform(Test_Data_2_Labels.reshape(-1,1))\n",
    "\n",
    "#SET 3\n",
    "Training_Data_3_Features = full_pipeline.fit_transform(Training_Data_3_Features)\n",
    "Training_Data_3_Labels = number_pipeline.fit_transform(Training_Data_3_Labels.reshape(-1,1))\n",
    "\n",
    "Test_Data_3_Features = full_pipeline.transform(Test_Data_3_Features)\n",
    "Test_Data_3_Labels = number_pipeline.transform(Test_Data_3_Labels.reshape(-1,1))\n",
    "\n",
    "#SET 4\n",
    "Training_Data_4_Features = full_pipeline.fit_transform(Training_Data_4_Features)\n",
    "Training_Data_4_Labels = number_pipeline.fit_transform(Training_Data_4_Labels.reshape(-1,1))\n",
    "\n",
    "Test_Data_4_Features = full_pipeline.transform(Test_Data_4_Features)\n",
    "Test_Data_4_Labels = number_pipeline.transform(Test_Data_4_Labels.reshape(-1,1))\n",
    "\n",
    "#SET 5\n",
    "\n",
    "Training_Data_5_Features = full_pipeline.fit_transform(Training_Data_5_Features)\n",
    "Training_Data_5_Labels = number_pipeline.fit_transform(Training_Data_5_Labels.reshape(-1,1))\n",
    "\n",
    "Test_Data_5_Features = full_pipeline.transform(Test_Data_5_Features)\n",
    "Test_Data_5_Labels = number_pipeline.transform(Test_Data_5_Labels.reshape(-1,1))"
   ]
  },
  {
   "cell_type": "code",
   "execution_count": 650,
   "metadata": {},
   "outputs": [],
   "source": [
    "#from sklearn.model_selection import GridSearchCV\n",
    "from sklearn.model_selection import RandomizedSearchCV"
   ]
  },
  {
   "cell_type": "code",
   "execution_count": 651,
   "metadata": {},
   "outputs": [],
   "source": [
    "from sklearn.ensemble import RandomForestRegressor\n",
    "\n",
    "Random_Forest_Regressor = RandomForestRegressor(random_state=42)\n",
    "\n",
    "n_estimators = [10, 50, 100]\n",
    "max_features = [0.1, 0.5]\n",
    "max_depth = [2, 5, 7] \n",
    "#oob_score = [True, False]\n",
    "min_samples_split = [0.1, 0.5]\n",
    "min_samples_leaf = [0.1, 0.5]\n",
    "max_leaf_nodes = [2, 7, 10]\n",
    "\n",
    "Param = {'n_estimators' : n_estimators, 'max_features' : max_features, 'max_depth': max_depth,\n",
    "         'min_samples_split' : min_samples_split, 'min_samples_leaf' : min_samples_leaf,\n",
    "         'max_leaf_nodes' : max_leaf_nodes}\n",
    "\n",
    "\n",
    "Rndom_Search_RForest = RandomizedSearchCV(Random_Forest_Regressor, Param, cv = 4, scoring='neg_mean_absolute_error', \n",
    "                                  refit = True, n_jobs = -1, verbose = 2)"
   ]
  },
  {
   "cell_type": "code",
   "execution_count": 652,
   "metadata": {
    "scrolled": true
   },
   "outputs": [
    {
     "name": "stdout",
     "output_type": "stream",
     "text": [
      "Fitting 4 folds for each of 10 candidates, totalling 40 fits\n"
     ]
    },
    {
     "name": "stderr",
     "output_type": "stream",
     "text": [
      "[Parallel(n_jobs=-1)]: Done  33 tasks      | elapsed:   11.3s\n",
      "[Parallel(n_jobs=-1)]: Done  40 out of  40 | elapsed:   12.2s finished\n"
     ]
    },
    {
     "name": "stdout",
     "output_type": "stream",
     "text": [
      "{'n_estimators': 50, 'min_samples_split': 0.1, 'min_samples_leaf': 0.1, 'max_leaf_nodes': 10, 'max_features': 0.5, 'max_depth': 5}\n",
      "RandomForestRegressor(bootstrap=True, criterion='mse', max_depth=5,\n",
      "           max_features=0.5, max_leaf_nodes=10, min_impurity_decrease=0.0,\n",
      "           min_impurity_split=None, min_samples_leaf=0.1,\n",
      "           min_samples_split=0.1, min_weight_fraction_leaf=0.0,\n",
      "           n_estimators=50, n_jobs=1, oob_score=False, random_state=42,\n",
      "           verbose=0, warm_start=False)\n"
     ]
    }
   ],
   "source": [
    "#fit the first training set.\n",
    "\n",
    "Model_1 = Rndom_Search_RForest.fit(Training_Data_1_Features, Training_Data_1_Labels)\n",
    "\n",
    "Model_1_best_params_ = Rndom_Search_RForest.best_params_\n",
    "\n",
    "Model_1_best_estimators_ = Rndom_Search_RForest.best_estimator_\n",
    "\n",
    "print(Model_1_best_params_)\n",
    "\n",
    "print(Model_1_best_estimators_)"
   ]
  },
  {
   "cell_type": "code",
   "execution_count": 653,
   "metadata": {},
   "outputs": [
    {
     "name": "stdout",
     "output_type": "stream",
     "text": [
      "Processing time for 1st model took 0.1s.\n"
     ]
    }
   ],
   "source": [
    "#Capture the time involved in predicting the first training set\n",
    "\n",
    "StartTime = time.time()\n",
    "train_pred_Model_1 = Model_1_best_estimators_.predict(Training_Data_1_Features)\n",
    "EndTime = time.time()\n",
    "\n",
    "print(\"Processing time for 1st model took {:.1f}s.\".format(EndTime - StartTime))"
   ]
  },
  {
   "cell_type": "code",
   "execution_count": 654,
   "metadata": {},
   "outputs": [
    {
     "data": {
      "text/plain": [
       "0"
      ]
     },
     "execution_count": 654,
     "metadata": {},
     "output_type": "execute_result"
    }
   ],
   "source": [
    "# Hits @ 10. 1.\n",
    "\n",
    "Training_Data_1_Labels_Flatten = np.array(Training_Data_1_Labels).flatten()\n",
    "\n",
    "Model_1_Index = np.array([i for i in range(len(Training_Data_1_Labels))])\n",
    "\n",
    "top10_Index_Predicted = pd.DataFrame(data = {'Indexes' : Model_1_Index, 'Predicted_Values' : train_pred_Model_1}).sort_values(by=['Predicted_Values'])['Indexes'][0:10,]\n",
    "\n",
    "top10_Index_Actuals = pd.DataFrame(data = {'Indexes' : Model_1_Index, 'Actual_Values' : Training_Data_1_Labels_Flatten}).sort_values(by=['Actual_Values'])['Indexes'][0:10,]\n",
    "    \n",
    "True_Hits1 = np.intersect1d(top10_Index_Predicted,top10_Index_Actuals).shape[0]\n",
    "\n",
    "True_Hits1"
   ]
  },
  {
   "cell_type": "code",
   "execution_count": 655,
   "metadata": {},
   "outputs": [
    {
     "data": {
      "text/plain": [
       "0.7382019590121889"
      ]
     },
     "execution_count": 655,
     "metadata": {},
     "output_type": "execute_result"
    }
   ],
   "source": [
    "# Now compute the ROC_AUC Score\n",
    "from sklearn.metrics import roc_auc_score\n",
    "\n",
    "top10_Index_Predicted = np.sort(train_pred_Model_1)[-10:]\n",
    "top10_Index_Actuals = np.sort(Training_Data_1_Labels_Flatten)[-10:]\n",
    "\n",
    "Predictions_Binary = (train_pred_Model_1 >= top10_Index_Predicted[0])\n",
    "Predictions_Binary = Predictions_Binary * 1\n",
    "\n",
    "Actuals_Binary = (Training_Data_1_Labels_Flatten >= top10_Index_Actuals[0])\n",
    "Actuals_Binary = Actuals_Binary * 1\n",
    "\n",
    "roc_auc_score(Actuals_Binary, Predictions_Binary)"
   ]
  },
  {
   "cell_type": "code",
   "execution_count": 656,
   "metadata": {},
   "outputs": [
    {
     "data": {
      "text/plain": [
       "0.2238965191414817"
      ]
     },
     "execution_count": 656,
     "metadata": {},
     "output_type": "execute_result"
    }
   ],
   "source": [
    "#Compute the Mean absolute error\n",
    "from sklearn.metrics import mean_absolute_error\n",
    "\n",
    "MAE_Model_1 = mean_absolute_error(Training_Data_1_Labels_Flatten, train_pred_Model_1)\n",
    "MAE_Model_1"
   ]
  },
  {
   "cell_type": "code",
   "execution_count": 657,
   "metadata": {},
   "outputs": [
    {
     "name": "stdout",
     "output_type": "stream",
     "text": [
      "Processing time for testing 1st model took 0.0s.\n"
     ]
    }
   ],
   "source": [
    "# Now compute the performances on the Test Set. Hits@10, AUC and MAE\n",
    "\n",
    "StartTime = time.time()\n",
    "test_pred_Model_1 = Model_1_best_estimators_.predict(Test_Data_1_Features)\n",
    "EndTime = time.time()\n",
    "\n",
    "Model1_Time = round(EndTime-StartTime, 4)\n",
    "print(\"Processing time for testing 1st model took {:.1f}s.\".format(EndTime - StartTime))"
   ]
  },
  {
   "cell_type": "code",
   "execution_count": 658,
   "metadata": {},
   "outputs": [
    {
     "data": {
      "text/plain": [
       "4"
      ]
     },
     "execution_count": 658,
     "metadata": {},
     "output_type": "execute_result"
    }
   ],
   "source": [
    "# Hits @ 10. 1.for 1st test set\n",
    "\n",
    "Test_Data_1_Labels_Flatten = np.array(Test_Data_1_Labels).flatten()\n",
    "\n",
    "Model_1_Index = np.array([i for i in range(len(Test_Data_1_Labels))])\n",
    "\n",
    "top10_Index_Predicted = pd.DataFrame(data = {'Indexes' : Model_1_Index, 'Predicted_Values' : test_pred_Model_1}).sort_values(by=['Predicted_Values'])['Indexes'][0:10,]\n",
    "\n",
    "top10_Index_Actuals = pd.DataFrame(data = {'Indexes' : Model_1_Index, 'Actual_Values' : Test_Data_1_Labels_Flatten}).sort_values(by=['Actual_Values'])['Indexes'][0:10,]\n",
    "    \n",
    "True_Hits1 = np.intersect1d(top10_Index_Predicted,top10_Index_Actuals)\n",
    "\n",
    "True_Hits1 = len(True_Hits1)\n",
    "\n",
    "True_Hits1"
   ]
  },
  {
   "cell_type": "code",
   "execution_count": 659,
   "metadata": {},
   "outputs": [
    {
     "data": {
      "text/plain": [
       "0.8166666666666667"
      ]
     },
     "execution_count": 659,
     "metadata": {},
     "output_type": "execute_result"
    }
   ],
   "source": [
    "# Now compute the ROC_AUC Score\n",
    "from sklearn.metrics import roc_auc_score\n",
    "\n",
    "top10_Index_Predicted = np.sort(test_pred_Model_1)[-10:]\n",
    "top10_Index_Actuals = np.sort(Test_Data_1_Labels_Flatten)[-10:]\n",
    "\n",
    "Predictions_Binary = (test_pred_Model_1 >= top10_Index_Predicted[0])\n",
    "Predictions_Binary = Predictions_Binary * 1\n",
    "\n",
    "Actuals_Binary = (Test_Data_1_Labels_Flatten >= top10_Index_Actuals[0])\n",
    "Actuals_Binary = Actuals_Binary * 1\n",
    "\n",
    "ROC_MODEL1 = roc_auc_score(Actuals_Binary, Predictions_Binary)\n",
    "ROC_MODEL1"
   ]
  },
  {
   "cell_type": "code",
   "execution_count": 660,
   "metadata": {},
   "outputs": [
    {
     "data": {
      "text/plain": [
       "0.9112083542126751"
      ]
     },
     "execution_count": 660,
     "metadata": {},
     "output_type": "execute_result"
    }
   ],
   "source": [
    "#Compute the Mean absolute error for test set\n",
    "from sklearn.metrics import mean_absolute_error\n",
    "\n",
    "MAE_Model_1 = mean_absolute_error(Test_Data_1_Labels_Flatten, test_pred_Model_1)\n",
    "MAE_Model_1"
   ]
  },
  {
   "cell_type": "code",
   "execution_count": 661,
   "metadata": {},
   "outputs": [
    {
     "name": "stdout",
     "output_type": "stream",
     "text": [
      "Fitting 4 folds for each of 10 candidates, totalling 40 fits\n"
     ]
    },
    {
     "name": "stderr",
     "output_type": "stream",
     "text": [
      "[Parallel(n_jobs=-1)]: Done  33 tasks      | elapsed:  1.0min\n",
      "[Parallel(n_jobs=-1)]: Done  40 out of  40 | elapsed:  1.1min finished\n"
     ]
    },
    {
     "name": "stdout",
     "output_type": "stream",
     "text": [
      "{'n_estimators': 100, 'min_samples_split': 0.1, 'min_samples_leaf': 0.1, 'max_leaf_nodes': 10, 'max_features': 0.5, 'max_depth': 5}\n",
      "RandomForestRegressor(bootstrap=True, criterion='mse', max_depth=5,\n",
      "           max_features=0.5, max_leaf_nodes=10, min_impurity_decrease=0.0,\n",
      "           min_impurity_split=None, min_samples_leaf=0.1,\n",
      "           min_samples_split=0.1, min_weight_fraction_leaf=0.0,\n",
      "           n_estimators=100, n_jobs=1, oob_score=False, random_state=42,\n",
      "           verbose=0, warm_start=False)\n"
     ]
    }
   ],
   "source": [
    "# Now Fit on the 2nd Data Train\n",
    "\n",
    "Model_2 = Rndom_Search_RForest.fit(Training_Data_2_Features, Training_Data_2_Labels)\n",
    "\n",
    "Model_2_best_params_ = Rndom_Search_RForest.best_params_\n",
    "\n",
    "Model_2_best_estimators_ = Rndom_Search_RForest.best_estimator_\n",
    "\n",
    "print(Model_2_best_params_)\n",
    "\n",
    "print(Model_2_best_estimators_)"
   ]
  },
  {
   "cell_type": "code",
   "execution_count": 662,
   "metadata": {},
   "outputs": [
    {
     "name": "stdout",
     "output_type": "stream",
     "text": [
      "Processing time for 2nd model took 0.2s.\n"
     ]
    }
   ],
   "source": [
    "#Capture the time involved in predicting the second training set\n",
    "\n",
    "StartTime = time.time()\n",
    "train_pred_Model_2 = Model_2_best_estimators_.predict(Training_Data_2_Features)\n",
    "EndTime = time.time()\n",
    "\n",
    "print(\"Processing time for 2nd model took {:.1f}s.\".format(EndTime - StartTime))"
   ]
  },
  {
   "cell_type": "code",
   "execution_count": 663,
   "metadata": {},
   "outputs": [
    {
     "data": {
      "text/plain": [
       "0"
      ]
     },
     "execution_count": 663,
     "metadata": {},
     "output_type": "execute_result"
    }
   ],
   "source": [
    "# Hits @ 10. 2.\n",
    "\n",
    "Training_Data_2_Labels_Flatten = np.array(Training_Data_2_Labels).flatten()\n",
    "\n",
    "Model_2_Index = np.array([i for i in range(len(Training_Data_2_Labels))])\n",
    "\n",
    "top10_Index_Predicted = pd.DataFrame(data = {'Indexes' : Model_2_Index, 'Predicted_Values' : train_pred_Model_2}).sort_values(by=['Predicted_Values'])['Indexes'][0:10,]\n",
    "\n",
    "top10_Index_Actuals = pd.DataFrame(data = {'Indexes' : Model_2_Index, 'Actual_Values' : Training_Data_2_Labels_Flatten}).sort_values(by=['Actual_Values'])['Indexes'][0:10,]\n",
    "    \n",
    "True_Hits2 = np.intersect1d(top10_Index_Predicted,top10_Index_Actuals).shape[0]\n",
    "\n",
    "True_Hits2"
   ]
  },
  {
   "cell_type": "code",
   "execution_count": 664,
   "metadata": {},
   "outputs": [
    {
     "data": {
      "text/plain": [
       "0.7894590538978131"
      ]
     },
     "execution_count": 664,
     "metadata": {},
     "output_type": "execute_result"
    }
   ],
   "source": [
    "# Now compute the ROC_AUC Score for second set\n",
    "from sklearn.metrics import roc_auc_score\n",
    "\n",
    "top10_Index_Predicted = np.sort(train_pred_Model_2)[-10:]\n",
    "top10_Index_Actuals = np.sort(Training_Data_2_Labels_Flatten)[-10:]\n",
    "\n",
    "Predictions_Binary = (train_pred_Model_2 >= top10_Index_Predicted[0])\n",
    "Predictions_Binary = Predictions_Binary * 1\n",
    "\n",
    "Actuals_Binary = (Training_Data_2_Labels_Flatten >= top10_Index_Actuals[0])\n",
    "Actuals_Binary = Actuals_Binary * 1\n",
    "\n",
    "roc_auc_score(Actuals_Binary, Predictions_Binary)"
   ]
  },
  {
   "cell_type": "code",
   "execution_count": 665,
   "metadata": {},
   "outputs": [
    {
     "data": {
      "text/plain": [
       "0.21770199781421637"
      ]
     },
     "execution_count": 665,
     "metadata": {},
     "output_type": "execute_result"
    }
   ],
   "source": [
    "#Compute the Mean absolute error\n",
    "from sklearn.metrics import mean_absolute_error\n",
    "\n",
    "MAE_Model_2 = mean_absolute_error(Training_Data_2_Labels_Flatten, train_pred_Model_2)\n",
    "MAE_Model_2"
   ]
  },
  {
   "cell_type": "code",
   "execution_count": 666,
   "metadata": {},
   "outputs": [
    {
     "name": "stdout",
     "output_type": "stream",
     "text": [
      "Processing time for testing 2nd model took 0.0s.\n",
      "2\n",
      "0.6666666666666666\n",
      "0.7029322390115705\n"
     ]
    }
   ],
   "source": [
    "# Now compute the performances on the 2nd Test Set. Hits@10, AUC and MAE\n",
    "\n",
    "StartTime = time.time()\n",
    "test_pred_Model_2 = Model_2_best_estimators_.predict(Test_Data_2_Features)\n",
    "EndTime = time.time()\n",
    "\n",
    "Model2_Time = round(EndTime-StartTime, 4)\n",
    "\n",
    "print(\"Processing time for testing 2nd model took {:.1f}s.\".format(EndTime - StartTime))\n",
    "\n",
    "# Hits @ 10..for 2nd test set\n",
    "\n",
    "Test_Data_2_Labels_Flatten = np.array(Test_Data_2_Labels).flatten()\n",
    "\n",
    "Model_2_Index = np.array([i for i in range(len(Test_Data_2_Labels))])\n",
    "\n",
    "top10_Index_Predicted = pd.DataFrame(data = {'Indexes' : Model_2_Index, 'Predicted_Values' : test_pred_Model_2}).sort_values(by=['Predicted_Values'])['Indexes'][0:10,]\n",
    "\n",
    "top10_Index_Actuals = pd.DataFrame(data = {'Indexes' : Model_2_Index, 'Actual_Values' : Test_Data_2_Labels_Flatten}).sort_values(by=['Actual_Values'])['Indexes'][0:10,]\n",
    "    \n",
    "True_Hits2 = np.intersect1d(top10_Index_Predicted,top10_Index_Actuals)\n",
    "\n",
    "True_Hits2 = len(True_Hits2)\n",
    "print (True_Hits2)\n",
    "\n",
    "# Now compute the ROC_AUC Score\n",
    "from sklearn.metrics import roc_auc_score\n",
    "\n",
    "top10_Index_Predicted = np.sort(test_pred_Model_2)[-10:]\n",
    "top10_Index_Actuals = np.sort(Test_Data_2_Labels_Flatten)[-10:]\n",
    "\n",
    "Predictions_Binary = (test_pred_Model_2 >= top10_Index_Predicted[0])\n",
    "Predictions_Binary = Predictions_Binary * 1\n",
    "\n",
    "Actuals_Binary = (Test_Data_2_Labels_Flatten >= top10_Index_Actuals[0])\n",
    "Actuals_Binary = Actuals_Binary * 1\n",
    "\n",
    "ROC_MODEL2 = roc_auc_score(Actuals_Binary, Predictions_Binary)\n",
    "\n",
    "print(ROC_MODEL2)\n",
    "#Compute the Mean absolute error for test set\n",
    "from sklearn.metrics import mean_absolute_error\n",
    "\n",
    "MAE_Model_2 = mean_absolute_error(Test_Data_2_Labels_Flatten, test_pred_Model_2)\n",
    "print (MAE_Model_2)"
   ]
  },
  {
   "cell_type": "code",
   "execution_count": 667,
   "metadata": {},
   "outputs": [
    {
     "name": "stdout",
     "output_type": "stream",
     "text": [
      "Fitting 4 folds for each of 10 candidates, totalling 40 fits\n"
     ]
    },
    {
     "name": "stderr",
     "output_type": "stream",
     "text": [
      "[Parallel(n_jobs=-1)]: Done  33 tasks      | elapsed:   48.3s\n",
      "[Parallel(n_jobs=-1)]: Done  40 out of  40 | elapsed:  1.0min finished\n"
     ]
    },
    {
     "name": "stdout",
     "output_type": "stream",
     "text": [
      "{'n_estimators': 100, 'min_samples_split': 0.5, 'min_samples_leaf': 0.1, 'max_leaf_nodes': 10, 'max_features': 0.5, 'max_depth': 2}\n",
      "RandomForestRegressor(bootstrap=True, criterion='mse', max_depth=2,\n",
      "           max_features=0.5, max_leaf_nodes=10, min_impurity_decrease=0.0,\n",
      "           min_impurity_split=None, min_samples_leaf=0.1,\n",
      "           min_samples_split=0.5, min_weight_fraction_leaf=0.0,\n",
      "           n_estimators=100, n_jobs=1, oob_score=False, random_state=42,\n",
      "           verbose=0, warm_start=False)\n"
     ]
    }
   ],
   "source": [
    "# Run the Third Model\n",
    "\n",
    "Model_3 = Rndom_Search_RForest.fit(Training_Data_3_Features, Training_Data_3_Labels)\n",
    "\n",
    "Model_3_best_params_ = Rndom_Search_RForest.best_params_\n",
    "\n",
    "Model_3_best_estimators_ = Rndom_Search_RForest.best_estimator_\n",
    "\n",
    "print(Model_3_best_params_)\n",
    "\n",
    "print(Model_3_best_estimators_)\n"
   ]
  },
  {
   "cell_type": "code",
   "execution_count": 668,
   "metadata": {},
   "outputs": [
    {
     "name": "stdout",
     "output_type": "stream",
     "text": [
      "Processing time for 3rd model took 0.2s.\n",
      "TRUE HITS for 3rd model is 1\n",
      "ROC AUC Score for 3rd model is  0.7566561833452582\n",
      "MAE for 3rd model is  0.23141743024483138\n"
     ]
    }
   ],
   "source": [
    "#Capture the time involved in predicting the third training set\n",
    "\n",
    "StartTime = time.time()\n",
    "train_pred_Model_3 = Model_3_best_estimators_.predict(Training_Data_3_Features)\n",
    "EndTime = time.time()\n",
    "\n",
    "print(\"Processing time for 3rd model took {:.1f}s.\".format(EndTime - StartTime))\n",
    "\n",
    "# Hits @ 10. 1.\n",
    "\n",
    "Training_Data_3_Labels_Flatten = np.array(Training_Data_3_Labels).flatten()\n",
    "\n",
    "Model_3_Index = np.array([i for i in range(len(Training_Data_3_Labels))])\n",
    "\n",
    "top10_Index_Predicted = pd.DataFrame(data = {'Indexes' : Model_3_Index, 'Predicted_Values' : train_pred_Model_3}).sort_values(by=['Predicted_Values'])['Indexes'][0:10,]\n",
    "\n",
    "top10_Index_Actuals = pd.DataFrame(data = {'Indexes' : Model_3_Index, 'Actual_Values' : Training_Data_3_Labels_Flatten}).sort_values(by=['Actual_Values'])['Indexes'][0:10,]\n",
    "    \n",
    "True_Hits3 = np.intersect1d(top10_Index_Predicted,top10_Index_Actuals).shape[0]\n",
    "\n",
    "print(\"TRUE HITS for 3rd model is\", True_Hits3)\n",
    "\n",
    "\n",
    "# Now compute the ROC_AUC Score for the third model\n",
    "\n",
    "from sklearn.metrics import roc_auc_score\n",
    "\n",
    "top10_Index_Predicted = np.sort(train_pred_Model_3)[-10:]\n",
    "top10_Index_Actuals = np.sort(Training_Data_3_Labels_Flatten)[-10:]\n",
    "\n",
    "Predictions_Binary = (train_pred_Model_3 >= top10_Index_Predicted[0])\n",
    "Predictions_Binary = Predictions_Binary * 1\n",
    "\n",
    "Actuals_Binary = (Training_Data_3_Labels_Flatten >= top10_Index_Actuals[0])\n",
    "Actuals_Binary = Actuals_Binary * 1\n",
    "\n",
    "print(\"ROC AUC Score for 3rd model is \", roc_auc_score(Actuals_Binary, Predictions_Binary))\n",
    "\n",
    "#Compute the Mean absolute error for the third model\n",
    "from sklearn.metrics import mean_absolute_error\n",
    "\n",
    "MAE_Model_3 = mean_absolute_error(Training_Data_3_Labels_Flatten, train_pred_Model_3)\n",
    "print(\"MAE for 3rd model is \" ,MAE_Model_3)\n"
   ]
  },
  {
   "cell_type": "code",
   "execution_count": 669,
   "metadata": {},
   "outputs": [
    {
     "name": "stdout",
     "output_type": "stream",
     "text": [
      "Processing time for testing 3rd model took 0.0s.\n",
      "TRUE HITS for 3rd model is 4\n",
      "ROC AUC Score for 3rd test model is  0.7611111111111112\n",
      "MAE for 3rd test model is  0.5068404166305648\n"
     ]
    }
   ],
   "source": [
    "# Now compute the performances on the 3rd Test Set. Hits@10, AUC and MAE\n",
    "\n",
    "StartTime = time.time()\n",
    "test_pred_Model_3 = Model_3_best_estimators_.predict(Test_Data_3_Features)\n",
    "EndTime = time.time()\n",
    "\n",
    "Model3_Time = round(EndTime-StartTime, 4)\n",
    "\n",
    "print(\"Processing time for testing 3rd model took {:.1f}s.\".format(EndTime - StartTime))\n",
    "\n",
    "# Hits @ 10. 3.for 3rd test set\n",
    "\n",
    "Test_Data_3_Labels_Flatten = np.array(Test_Data_3_Labels).flatten()\n",
    "\n",
    "Model_3_Index = np.array([i for i in range(len(Test_Data_3_Labels))])\n",
    "\n",
    "top10_Index_Predicted = pd.DataFrame(data = {'Indexes' : Model_3_Index, 'Predicted_Values' : test_pred_Model_3}).sort_values(by=['Predicted_Values'])['Indexes'][0:10,]\n",
    "\n",
    "top10_Index_Actuals = pd.DataFrame(data = {'Indexes' : Model_3_Index, 'Actual_Values' : Test_Data_3_Labels_Flatten}).sort_values(by=['Actual_Values'])['Indexes'][0:10,]\n",
    "    \n",
    "True_Hits3 = np.intersect1d(top10_Index_Predicted,top10_Index_Actuals)\n",
    "\n",
    "True_Hits3 = len(True_Hits3)\n",
    "\n",
    "print(\"TRUE HITS for 3rd model is\",True_Hits3)\n",
    "\n",
    "\n",
    "# Now compute the ROC_AUC Score\n",
    "from sklearn.metrics import roc_auc_score\n",
    "\n",
    "top10_Index_Predicted = np.sort(test_pred_Model_3)[-10:]\n",
    "top10_Index_Actuals = np.sort(Test_Data_3_Labels_Flatten)[-10:]\n",
    "\n",
    "Predictions_Binary = (test_pred_Model_3 >= top10_Index_Predicted[0])\n",
    "Predictions_Binary = Predictions_Binary * 1\n",
    "\n",
    "Actuals_Binary = (Test_Data_3_Labels >= top10_Index_Actuals[0])\n",
    "Actuals_Binary = Actuals_Binary * 1\n",
    "\n",
    "ROC_MODEL3 = roc_auc_score(Actuals_Binary, Predictions_Binary)\n",
    "print(\"ROC AUC Score for 3rd test model is \", ROC_MODEL3 )\n",
    "\n",
    "#Compute the Mean absolute error for 3rd test set\n",
    "from sklearn.metrics import mean_absolute_error\n",
    "\n",
    "MAE_Model_3 = mean_absolute_error(Test_Data_3_Labels_Flatten, test_pred_Model_3)\n",
    "print(\"MAE for 3rd test model is \", MAE_Model_3)"
   ]
  },
  {
   "cell_type": "code",
   "execution_count": 670,
   "metadata": {},
   "outputs": [
    {
     "name": "stdout",
     "output_type": "stream",
     "text": [
      "Fitting 4 folds for each of 10 candidates, totalling 40 fits\n"
     ]
    },
    {
     "name": "stderr",
     "output_type": "stream",
     "text": [
      "[Parallel(n_jobs=-1)]: Done  33 tasks      | elapsed:  1.4min\n",
      "[Parallel(n_jobs=-1)]: Done  40 out of  40 | elapsed:  1.4min finished\n"
     ]
    },
    {
     "name": "stdout",
     "output_type": "stream",
     "text": [
      "{'n_estimators': 10, 'min_samples_split': 0.5, 'min_samples_leaf': 0.1, 'max_leaf_nodes': 2, 'max_features': 0.5, 'max_depth': 7}\n",
      "RandomForestRegressor(bootstrap=True, criterion='mse', max_depth=7,\n",
      "           max_features=0.5, max_leaf_nodes=2, min_impurity_decrease=0.0,\n",
      "           min_impurity_split=None, min_samples_leaf=0.1,\n",
      "           min_samples_split=0.5, min_weight_fraction_leaf=0.0,\n",
      "           n_estimators=10, n_jobs=1, oob_score=False, random_state=42,\n",
      "           verbose=0, warm_start=False)\n"
     ]
    }
   ],
   "source": [
    "# Run the Fourth Model\n",
    "\n",
    "Model_4 = Rndom_Search_RForest.fit(Training_Data_4_Features, Training_Data_4_Labels)\n",
    "\n",
    "Model_4_best_params_ = Rndom_Search_RForest.best_params_\n",
    "\n",
    "Model_4_best_estimators_ = Rndom_Search_RForest.best_estimator_\n",
    "\n",
    "print(Model_4_best_params_)\n",
    "\n",
    "print(Model_4_best_estimators_)\n"
   ]
  },
  {
   "cell_type": "code",
   "execution_count": 671,
   "metadata": {},
   "outputs": [
    {
     "name": "stdout",
     "output_type": "stream",
     "text": [
      "Processing time for 4th model took 0.1s.\n",
      "TRUE HITS for 4th model is 1\n",
      "ROC AUC Score for 4th model is  0.7239112546286484\n",
      "MAE for 4th model is  0.23368593466515603\n"
     ]
    }
   ],
   "source": [
    "#Capture the time involved in predicting the fourth training set\n",
    "\n",
    "StartTime = time.time()\n",
    "train_pred_Model_4 = Model_4_best_estimators_.predict(Training_Data_4_Features)\n",
    "EndTime = time.time()\n",
    "\n",
    "print(\"Processing time for 4th model took {:.1f}s.\".format(EndTime - StartTime))\n",
    "\n",
    "# Hits @ 10. 1.\n",
    "\n",
    "Training_Data_4_Labels_Flatten = np.array(Training_Data_4_Labels).flatten()\n",
    "\n",
    "Model_4_Index = np.array([i for i in range(len(Training_Data_4_Labels))])\n",
    "\n",
    "top10_Index_Predicted = pd.DataFrame(data = {'Indexes' : Model_4_Index, 'Predicted_Values' : train_pred_Model_4}).sort_values(by=['Predicted_Values'])['Indexes'][0:10,]\n",
    "\n",
    "top10_Index_Actuals = pd.DataFrame(data = {'Indexes' : Model_4_Index, 'Actual_Values' : Training_Data_4_Labels_Flatten}).sort_values(by=['Actual_Values'])['Indexes'][0:10,]\n",
    "    \n",
    "True_Hits4 = np.intersect1d(top10_Index_Predicted,top10_Index_Actuals).shape[0]\n",
    "\n",
    "print(\"TRUE HITS for 4th model is\", True_Hits4)\n",
    "\n",
    "\n",
    "# Now compute the ROC_AUC Score for the fourth model\n",
    "\n",
    "from sklearn.metrics import roc_auc_score\n",
    "\n",
    "top10_Index_Predicted = np.sort(train_pred_Model_4)[-10:]\n",
    "top10_Index_Actuals = np.sort(Training_Data_4_Labels_Flatten)[-10:]\n",
    "\n",
    "Predictions_Binary = (train_pred_Model_4 >= top10_Index_Predicted[0])\n",
    "Predictions_Binary = Predictions_Binary * 1\n",
    "\n",
    "Actuals_Binary = (Training_Data_4_Labels_Flatten >= top10_Index_Actuals[0])\n",
    "Actuals_Binary = Actuals_Binary * 1\n",
    "\n",
    "print(\"ROC AUC Score for 4th model is \", roc_auc_score(Actuals_Binary, Predictions_Binary))\n",
    "\n",
    "#Compute the Mean absolute error for the fourth model\n",
    "from sklearn.metrics import mean_absolute_error\n",
    "\n",
    "MAE_Model_4 = mean_absolute_error(Training_Data_4_Labels_Flatten, train_pred_Model_4)\n",
    "print(\"MAE for 4th model is \" ,MAE_Model_4)\n"
   ]
  },
  {
   "cell_type": "code",
   "execution_count": 672,
   "metadata": {},
   "outputs": [
    {
     "name": "stdout",
     "output_type": "stream",
     "text": [
      "Processing time for testing 4th model took 0.0s.\n",
      "TRUE HITS for 4th model is 7\n",
      "ROC AUC Score for 4th test model is  0.7000000000000002\n",
      "MAE for 4th test model is  1.051582125625234\n"
     ]
    }
   ],
   "source": [
    "# Now compute the performances on the 4th Test Set. Hits@10, AUC and MAE\n",
    "\n",
    "StartTime = time.time()\n",
    "test_pred_Model_4 = Model_4_best_estimators_.predict(Test_Data_4_Features)\n",
    "EndTime = time.time()\n",
    "\n",
    "Model4_Time = round(EndTime-StartTime, 4)\n",
    "\n",
    "print(\"Processing time for testing 4th model took {:.1f}s.\".format(EndTime - StartTime))\n",
    "\n",
    "# Hits @ 10. 4.for 4th test set\n",
    "\n",
    "Test_Data_4_Labels_Flatten = np.array(Test_Data_4_Labels).flatten()\n",
    "\n",
    "Model_4_Index = np.array([i for i in range(len(Test_Data_4_Labels))])\n",
    "\n",
    "top10_Index_Predicted = pd.DataFrame(data = {'Indexes' : Model_4_Index, 'Predicted_Values' : test_pred_Model_4}).sort_values(by=['Predicted_Values'])['Indexes'][0:10,]\n",
    "\n",
    "top10_Index_Actuals = pd.DataFrame(data = {'Indexes' : Model_4_Index, 'Actual_Values' : Test_Data_4_Labels_Flatten}).sort_values(by=['Actual_Values'])['Indexes'][0:10,]\n",
    "    \n",
    "True_Hits4 = np.intersect1d(top10_Index_Predicted,top10_Index_Actuals)\n",
    "\n",
    "True_Hits4 = len(True_Hits4)\n",
    "\n",
    "print(\"TRUE HITS for 4th model is\",True_Hits4)\n",
    "\n",
    "\n",
    "# Now compute the ROC_AUC Score\n",
    "from sklearn.metrics import roc_auc_score\n",
    "\n",
    "top10_Index_Predicted = np.sort(test_pred_Model_4)[-10:]\n",
    "top10_Index_Actuals = np.sort(Test_Data_4_Labels_Flatten)[-10:]\n",
    "\n",
    "Predictions_Binary = (test_pred_Model_4 >= top10_Index_Predicted[0])\n",
    "Predictions_Binary = Predictions_Binary * 1\n",
    "\n",
    "Actuals_Binary = (Test_Data_4_Labels >= top10_Index_Actuals[0])\n",
    "Actuals_Binary = Actuals_Binary * 1\n",
    "\n",
    "ROC_MODEL4 = roc_auc_score(Actuals_Binary, Predictions_Binary)\n",
    "print(\"ROC AUC Score for 4th test model is \", ROC_MODEL4 )\n",
    "\n",
    "#Compute the Mean absolute error for 4th test set\n",
    "from sklearn.metrics import mean_absolute_error\n",
    "\n",
    "MAE_Model_4 = mean_absolute_error(Test_Data_4_Labels_Flatten, test_pred_Model_4)\n",
    "print(\"MAE for 4th test model is \", MAE_Model_4)"
   ]
  },
  {
   "cell_type": "code",
   "execution_count": 673,
   "metadata": {},
   "outputs": [
    {
     "name": "stdout",
     "output_type": "stream",
     "text": [
      "Fitting 4 folds for each of 10 candidates, totalling 40 fits\n"
     ]
    },
    {
     "name": "stderr",
     "output_type": "stream",
     "text": [
      "[Parallel(n_jobs=-1)]: Done  33 tasks      | elapsed:   33.6s\n",
      "[Parallel(n_jobs=-1)]: Done  40 out of  40 | elapsed:   36.6s finished\n"
     ]
    },
    {
     "name": "stdout",
     "output_type": "stream",
     "text": [
      "{'n_estimators': 10, 'min_samples_split': 0.5, 'min_samples_leaf': 0.1, 'max_leaf_nodes': 7, 'max_features': 0.5, 'max_depth': 2}\n",
      "RandomForestRegressor(bootstrap=True, criterion='mse', max_depth=2,\n",
      "           max_features=0.5, max_leaf_nodes=7, min_impurity_decrease=0.0,\n",
      "           min_impurity_split=None, min_samples_leaf=0.1,\n",
      "           min_samples_split=0.5, min_weight_fraction_leaf=0.0,\n",
      "           n_estimators=10, n_jobs=1, oob_score=False, random_state=42,\n",
      "           verbose=0, warm_start=False)\n"
     ]
    }
   ],
   "source": [
    "# Run the Fifth Model\n",
    "\n",
    "Model_5 = Rndom_Search_RForest.fit(Training_Data_5_Features, Training_Data_5_Labels)\n",
    "\n",
    "Model_5_best_params_ = Rndom_Search_RForest.best_params_\n",
    "\n",
    "Model_5_best_estimators_ = Rndom_Search_RForest.best_estimator_\n",
    "\n",
    "print(Model_5_best_params_)\n",
    "\n",
    "print(Model_5_best_estimators_)\n"
   ]
  },
  {
   "cell_type": "code",
   "execution_count": 674,
   "metadata": {},
   "outputs": [
    {
     "name": "stdout",
     "output_type": "stream",
     "text": [
      "Processing time for 5th model took 0.1s.\n",
      "TRUE HITS for 5th model is 1\n",
      "ROC AUC Score for 5th model is  0.7224248819214149\n",
      "MAE for 5th model is  0.2282738054315599\n"
     ]
    }
   ],
   "source": [
    "#Capture the time involved in predicting the fifth training set\n",
    "\n",
    "StartTime = time.time()\n",
    "train_pred_Model_5 = Model_5_best_estimators_.predict(Training_Data_5_Features)\n",
    "EndTime = time.time()\n",
    "\n",
    "print(\"Processing time for 5th model took {:.1f}s.\".format(EndTime - StartTime))\n",
    "\n",
    "# Hits @ 10. 1.\n",
    "\n",
    "Training_Data_5_Labels_Flatten = np.array(Training_Data_5_Labels).flatten()\n",
    "\n",
    "Model_5_Index = np.array([i for i in range(len(Training_Data_5_Labels))])\n",
    "\n",
    "top10_Index_Predicted = pd.DataFrame(data = {'Indexes' : Model_5_Index, 'Predicted_Values' : train_pred_Model_5}).sort_values(by=['Predicted_Values'])['Indexes'][0:10,]\n",
    "\n",
    "top10_Index_Actuals = pd.DataFrame(data = {'Indexes' : Model_5_Index, 'Actual_Values' : Training_Data_5_Labels_Flatten}).sort_values(by=['Actual_Values'])['Indexes'][0:10,]\n",
    "    \n",
    "True_Hits5 = np.intersect1d(top10_Index_Predicted,top10_Index_Actuals).shape[0]\n",
    "\n",
    "print(\"TRUE HITS for 5th model is\", True_Hits5)\n",
    "\n",
    "\n",
    "# Now compute the ROC_AUC Score for the fifth model\n",
    "\n",
    "from sklearn.metrics import roc_auc_score\n",
    "\n",
    "top10_Index_Predicted = np.sort(train_pred_Model_5)[-10:]\n",
    "top10_Index_Actuals = np.sort(Training_Data_5_Labels_Flatten)[-10:]\n",
    "\n",
    "Predictions_Binary = (train_pred_Model_5 >= top10_Index_Predicted[0])\n",
    "Predictions_Binary = Predictions_Binary * 1\n",
    "\n",
    "Actuals_Binary = (Training_Data_5_Labels_Flatten >= top10_Index_Actuals[0])\n",
    "Actuals_Binary = Actuals_Binary * 1\n",
    "\n",
    "print(\"ROC AUC Score for 5th model is \", roc_auc_score(Actuals_Binary, Predictions_Binary))\n",
    "\n",
    "#Compute the Mean absolute error for the fifth model\n",
    "from sklearn.metrics import mean_absolute_error\n",
    "\n",
    "MAE_Model_5 = mean_absolute_error(Training_Data_5_Labels_Flatten, train_pred_Model_5)\n",
    "print(\"MAE for 5th model is \" ,MAE_Model_5)\n"
   ]
  },
  {
   "cell_type": "code",
   "execution_count": 675,
   "metadata": {},
   "outputs": [
    {
     "name": "stdout",
     "output_type": "stream",
     "text": [
      "Processing time for testing 5th model took 0.0s.\n",
      "TRUE HITS for 5th model is 0\n",
      "ROC AUC Score for 5th test model is  0.5750766087844741\n",
      "MAE for 5th test model is  0.2282738054315599\n"
     ]
    }
   ],
   "source": [
    "# Now compute the performances on the 5th Test Set. Hits@10, AUC and MAE\n",
    "\n",
    "StartTime = time.time()\n",
    "test_pred_Model_5 = Model_5_best_estimators_.predict(Test_Data_5_Features)\n",
    "EndTime = time.time()\n",
    "Model5_Time = round(EndTime-StartTime, 4)\n",
    "\n",
    "print(\"Processing time for testing 5th model took {:.1f}s.\".format(EndTime - StartTime))\n",
    "\n",
    "# Hits @ 10. 5.for 5th test set\n",
    "\n",
    "Test_Data_5_Labels_Flatten = np.array(Test_Data_4_Labels).flatten()\n",
    "\n",
    "Model_5_Index = np.array([i for i in range(len(Test_Data_5_Labels))])\n",
    "\n",
    "top10_Index_Predicted = pd.DataFrame(data = {'Indexes' : Model_5_Index, 'Predicted_Values' : test_pred_Model_5}).sort_values(by=['Predicted_Values'])['Indexes'][0:10,]\n",
    "\n",
    "top10_Index_Actuals = pd.DataFrame(data = {'Indexes' : Model_5_Index, 'Actual_Values' : Test_Data_5_Labels_Flatten}).sort_values(by=['Actual_Values'])['Indexes'][0:10,]\n",
    "    \n",
    "True_Hits5 = np.intersect1d(top10_Index_Predicted,top10_Index_Actuals)\n",
    "\n",
    "True_Hits5 = len(True_Hits5)\n",
    "\n",
    "print(\"TRUE HITS for 5th model is\",True_Hits5)\n",
    "\n",
    "\n",
    "# Now compute the ROC_AUC Score\n",
    "from sklearn.metrics import roc_auc_score\n",
    "\n",
    "top10_Index_Predicted = np.sort(test_pred_Model_5)[-10:]\n",
    "top10_Index_Actuals = np.sort(Test_Data_5_Labels_Flatten)[-10:]\n",
    "\n",
    "Predictions_Binary = (test_pred_Model_5 >= top10_Index_Predicted[0])\n",
    "Predictions_Binary = Predictions_Binary * 1\n",
    "\n",
    "Actuals_Binary = (Test_Data_5_Labels >= top10_Index_Actuals[0])\n",
    "Actuals_Binary = Actuals_Binary * 1\n",
    "\n",
    "ROC_MODEL5 = roc_auc_score(Actuals_Binary, Predictions_Binary)\n",
    "print(\"ROC AUC Score for 5th test model is \", ROC_MODEL5)\n",
    "\n",
    "#Compute the Mean absolute error for 5th test set\n",
    "from sklearn.metrics import mean_absolute_error\n",
    "\n",
    "MAE_Model_4 = mean_absolute_error(Test_Data_5_Labels_Flatten, test_pred_Model_5)\n",
    "print(\"MAE for 5th test model is \", MAE_Model_5)"
   ]
  },
  {
   "cell_type": "code",
   "execution_count": 676,
   "metadata": {},
   "outputs": [],
   "source": [
    "#Random Forest summary\n",
    "\n",
    "list_of_hits = [True_Hits1 ,True_Hits2 ,True_Hits3,True_Hits4,True_Hits5]\n",
    "list_of_auc = [ROC_MODEL1,ROC_MODEL2,ROC_MODEL3,ROC_MODEL4,ROC_MODEL5]\n",
    "list_of_mae = [MAE_Model_1,MAE_Model_2,MAE_Model_3,MAE_Model_4,MAE_Model_5]\n",
    "list_of_eval_time = [Model1_Time,Model2_Time,Model3_Time,Model4_Time,Model5_Time]"
   ]
  },
  {
   "cell_type": "code",
   "execution_count": 677,
   "metadata": {},
   "outputs": [
    {
     "data": {
      "image/png": "[encoded data removed]",
      "text/plain": [
       "<matplotlib.figure.Figure at 0x25f00b6af98>"
      ]
     },
     "metadata": {},
     "output_type": "display_data"
    }
   ],
   "source": [
    "#Random Forest Summary\n",
    "\n",
    "plt.figure(figsize=(25, 5))\n",
    "\n",
    "\n",
    "plt.subplot(141)\n",
    "y_hits = list_of_hits\n",
    "x_hits = ['True_Hits1' ,'True_Hits2' ,'True_Hits3' ,'True_Hits4','True_Hits5']\n",
    "plt.xticks(rotation = 'vertical')\n",
    "width = 1/1.5\n",
    "plt.bar(x_hits, y_hits, width, color=['black', 'red', 'green', 'blue', 'cyan'])\n",
    "plt.xlabel('Test Sets')\n",
    "plt.ylabel('Mean Hits')\n",
    "plt.title('Bar Plot of Hits for all 5 Test Sets')\n",
    "\n",
    "plt.subplot(142)\n",
    "y_hits = list_of_auc\n",
    "x_hits = ['ROC_MODEL1','ROC_MODEL2','ROC_MODEL3','ROC_MODEL4','ROC_MODEL5']\n",
    "plt.xticks(rotation = 'vertical')\n",
    "width = 1/1.5\n",
    "plt.bar(x_hits, y_hits, width, color=['black', 'red', 'green', 'blue', 'cyan'])\n",
    "plt.xlabel('Test Sets')\n",
    "plt.ylabel('Mean AUC')\n",
    "plt.title('Bar Plot of AUC for all 5 Test Sets')\n",
    "\n",
    "plt.subplot(143)\n",
    "y_hits = list_of_mae\n",
    "x_hits = ['MAE_Model_1','MAE_Model_2','MAE_Model_3','MAE_Model_4','MAE_Model_5']\n",
    "plt.xticks(rotation = 'vertical')\n",
    "width = 1/1.5\n",
    "plt.bar(x_hits, y_hits, width, color=['black', 'red', 'green', 'blue', 'cyan'])\n",
    "plt.xlabel('Test Sets')\n",
    "plt.ylabel('Mean MAE')\n",
    "plt.title('Bar Plot of MAE for all 5 Test Sets')\n",
    "\n",
    "plt.subplot(144)\n",
    "y_hits = list_of_eval_time\n",
    "x_hits = ['Model1_Time','Model2_Time','Model3_Time','Model4_Time','Model5_Time']\n",
    "plt.xticks(rotation = 'vertical')\n",
    "width = 1/1.5\n",
    "plt.bar(x_hits, y_hits, width, color=['black', 'red', 'green', 'blue', 'cyan'])\n",
    "plt.xlabel('Test Sets')\n",
    "plt.ylabel('Mean Time')\n",
    "plt.title('Bar Plot of Evaluation Time for all 5 Test Sets')\n",
    "plt.show()"
   ]
  },
  {
   "cell_type": "markdown",
   "metadata": {},
   "source": [
    "# DNN\n",
    "\n",
    "- Initialization: He Initialization\n",
    "- Activation Function: SELU\n",
    "- Normalization: Batch Normalization\n",
    "- Regularization: Dropout\n",
    "- Optimizer: Adam\n",
    "- Learning Rate Schedule: None"
   ]
  },
  {
   "cell_type": "markdown",
   "metadata": {},
   "source": [
    "Step.1: Build a DNN with 2 hidden layers, He initialization, and the RELU activation function."
   ]
  },
  {
   "cell_type": "code",
   "execution_count": 680,
   "metadata": {},
   "outputs": [],
   "source": [
    "def reset_graph(seed=42):\n",
    "    tf.reset_default_graph()\n",
    "    tf.set_random_seed(seed)\n",
    "    np.random.seed(seed)"
   ]
  },
  {
   "cell_type": "code",
   "execution_count": 694,
   "metadata": {},
   "outputs": [],
   "source": [
    "n_inputs = 53\n",
    "n_hidden1 = 2\n",
    "n_hidden2 = 2\n",
    "n_outputs = 1"
   ]
  },
  {
   "cell_type": "code",
   "execution_count": 695,
   "metadata": {},
   "outputs": [],
   "source": [
    "reset_graph()\n",
    "\n",
    "X = tf.placeholder(tf.float32, shape=(None, n_inputs), name=\"X\")\n",
    "y = tf.placeholder(tf.float32, shape=(None), name=\"y\")"
   ]
  },
  {
   "cell_type": "code",
   "execution_count": 696,
   "metadata": {},
   "outputs": [],
   "source": [
    "# Implement dropout\n",
    "\n",
    "training = tf.placeholder_with_default(False, shape=(), name='training')\n",
    "\n",
    "dropout_rate = 0.5\n",
    "X_drop = tf.layers.dropout(X, dropout_rate, training=training)\n",
    "\n",
    "with tf.name_scope(\"dnn\"):\n",
    "   \n",
    "    hidden_T1 = tf.layers.dense(X_drop, n_hidden1, name=\"hiddenLayersT1\",\n",
    "                              activation=tf.nn.relu)\n",
    "    hidden_T2 = tf.layers.dense(hidden_T1, n_hidden2, name=\"hiddenLayersT2\",\n",
    "                              activation=tf.nn.relu)\n",
    "    logit = tf.layers.dense(hidden_T2, n_outputs, name=\"outputslayersT2\")\n",
    "    \n",
    "    logits = logit[:, 0]\n",
    "    "
   ]
  },
  {
   "cell_type": "code",
   "execution_count": 697,
   "metadata": {},
   "outputs": [],
   "source": [
    "with tf.name_scope(\"loss\"):\n",
    "    mse = tf.losses.mean_squared_error(labels=y, predictions=logits)\n",
    "    loss = tf.reduce_mean(mse, name=\"loss\")\n",
    "    loss_summary = tf.summary.scalar('loss', loss)"
   ]
  },
  {
   "cell_type": "code",
   "execution_count": 698,
   "metadata": {},
   "outputs": [],
   "source": [
    "learning_rate = 0.0001\n",
    "\n",
    "with tf.name_scope(\"train\"):\n",
    "    optimizer = tf.train.AdamOptimizer(learning_rate)\n",
    "    training_op = optimizer.minimize(loss)"
   ]
  },
  {
   "cell_type": "code",
   "execution_count": 742,
   "metadata": {
    "scrolled": false
   },
   "outputs": [],
   "source": [
    "with tf.name_scope(\"eval\"):\n",
    "    \n",
    "    # MAE\n",
    "    mae = tf.reduce_mean(tf.abs(y-logits))\n",
    "    mae_summary = tf.summary.scalar('mae', mae) # MAE DONE\n",
    "    \n",
    "    # HITS\n",
    "    # First, get top 10 values for labels and logits; this will be used for HITS and AUC\n",
    "    # Next, find the intersection of indexes for the top 10 values and use this for HITS\n",
    "    top_10_labels_vals, top_10_labels_index = tf.nn.top_k(y, 10)\n",
    "    top_10_logits_vals, top_10_logits_index = tf.nn.top_k(logits, 10)\n",
    "    \n",
    "    hits = tf.sets.set_intersection(top_10_labels_index, top_10_logits_index[None])\n",
    "    hits_10 = tf.size(hits)\n",
    "    hits_summary = tf.summary.scalar('hits_10', hits_10)\n",
    "    \n",
    "    #AUC\n",
    "    label_bool = tf.greater_equal(y, tf.reduce_min(top_10_labels_vals))\n",
    "    label = tf.cast(label_bool, tf.int32)\n",
    "    \n",
    "    predictions_bool = tf.greater_equal(logits, tf.reduce_min(top_10_logits_vals))\n",
    "    prediction = tf.cast(predictions_bool, tf.int32)\n",
    " \n",
    "    auc, update_op = tf.contrib.metrics.streaming_auc(label, prediction)"
   ]
  },
  {
   "cell_type": "code",
   "execution_count": 700,
   "metadata": {},
   "outputs": [],
   "source": [
    "init = tf.global_variables_initializer()\n",
    "init_l = tf.local_variables_initializer()\n",
    "saver = tf.train.Saver()"
   ]
  },
  {
   "cell_type": "markdown",
   "metadata": {},
   "source": [
    "Now we need to define the directory to write the TensorBoard logs to:"
   ]
  },
  {
   "cell_type": "code",
   "execution_count": 701,
   "metadata": {},
   "outputs": [],
   "source": [
    "from datetime import datetime\n",
    "\n",
    "def log_dir(prefix=\"\"):\n",
    "    now = datetime.utcnow().strftime(\"%Y%m%d%H%M%S\")\n",
    "    root_logdir = \"Machine Learning Capstone Project/tf_logs\"\n",
    "    if prefix:\n",
    "        prefix += \"-\"\n",
    "    name = prefix + \"run-\" + now\n",
    "    return \"{}/{}/\".format(root_logdir, name)\n"
   ]
  },
  {
   "cell_type": "code",
   "execution_count": 702,
   "metadata": {},
   "outputs": [],
   "source": [
    "logdir = log_dir(\"TensorLogs\")"
   ]
  },
  {
   "cell_type": "markdown",
   "metadata": {},
   "source": [
    "Now we can create the FileWriter that we will use to write the TensorBoard logs:"
   ]
  },
  {
   "cell_type": "code",
   "execution_count": 703,
   "metadata": {},
   "outputs": [],
   "source": [
    "file_writer = tf.summary.FileWriter(logdir, tf.get_default_graph())"
   ]
  },
  {
   "cell_type": "code",
   "execution_count": 704,
   "metadata": {},
   "outputs": [],
   "source": [
    "# Now use the training and test features and Labels.\n",
    "\n",
    "X_train_1 = Training_Data_1_Features \n",
    "X_train_2 = Training_Data_2_Features \n",
    "X_train_3 = Training_Data_3_Features \n",
    "X_train_4 = Training_Data_4_Features \n",
    "X_train_5 = Training_Data_5_Features \n",
    "\n",
    "y_train_1 = Training_Data_1_Labels_Flatten\n",
    "y_train_2 = Training_Data_2_Labels_Flatten\n",
    "y_train_3 = Training_Data_3_Labels_Flatten\n",
    "y_train_4 = Training_Data_4_Labels_Flatten\n",
    "y_train_5 = Training_Data_5_Labels_Flatten\n",
    "\n",
    "X_test_set_1 = Test_Data_1_Features\n",
    "X_test_set_2 = Test_Data_2_Features\n",
    "X_test_set_3 = Test_Data_3_Features\n",
    "X_test_set_4 = Test_Data_4_Features\n",
    "X_test_set_5 = Test_Data_5_Features\n",
    "\n",
    "y_test_set_1 = Test_Data_1_Labels_Flatten\n",
    "y_test_set_2 = Test_Data_2_Labels_Flatten\n",
    "y_test_set_3 = Test_Data_3_Labels_Flatten\n",
    "y_test_set_4 = Test_Data_4_Labels_Flatten\n",
    "y_test_set_5 = Test_Data_5_Labels_Flatten"
   ]
  },
  {
   "cell_type": "code",
   "execution_count": 705,
   "metadata": {},
   "outputs": [],
   "source": [
    "m_1, n_1 = X_train_1.shape\n",
    "m_2, n_2 = X_train_2.shape\n",
    "m_3, n_3 = X_train_3.shape\n",
    "m_4, n_4 = X_train_4.shape\n",
    "m_5, n_5 = X_train_5.shape"
   ]
  },
  {
   "cell_type": "code",
   "execution_count": 706,
   "metadata": {},
   "outputs": [],
   "source": [
    "def random_batch(X_train, y_train, batch_size):\n",
    "    rnd_indices = np.random.randint(0, len(X_train), batch_size)\n",
    "    X_batch = X_train[rnd_indices]\n",
    "    y_batch = y_train[rnd_indices]\n",
    "    return X_batch, y_batch"
   ]
  },
  {
   "cell_type": "markdown",
   "metadata": {},
   "source": [
    "##### First we construct all 5 Models and further we will compute HITS@10, AUC, MAC and Processing Time"
   ]
  },
  {
   "cell_type": "code",
   "execution_count": 748,
   "metadata": {},
   "outputs": [
    {
     "name": "stdout",
     "output_type": "stream",
     "text": [
      "Epoch: 0 \tLoss: 6.009687\n",
      "Epoch: 2 \tLoss: 5.8673873\n",
      "Epoch: 4 \tLoss: 5.763513\n",
      "Epoch: 6 \tLoss: 5.6557813\n",
      "Epoch: 8 \tLoss: 5.5469604\n",
      "Epoch: 10 \tLoss: 5.4559264\n",
      "Epoch: 12 \tLoss: 5.3795624\n",
      "Epoch: 14 \tLoss: 5.3009987\n",
      "Epoch: 16 \tLoss: 5.2168055\n",
      "Epoch: 18 \tLoss: 5.1372375\n",
      "Epoch: 20 \tLoss: 5.0573425\n",
      "Epoch: 22 \tLoss: 5.003282\n",
      "Epoch: 24 \tLoss: 4.9149065\n",
      "Epoch: 26 \tLoss: 4.8448267\n",
      "Epoch: 28 \tLoss: 4.786586\n",
      "Epoch: 30 \tLoss: 4.732807\n",
      "Epoch: 32 \tLoss: 4.6920323\n",
      "Epoch: 34 \tLoss: 4.6427937\n",
      "Epoch: 36 \tLoss: 4.593965\n",
      "Epoch: 38 \tLoss: 4.5674763\n",
      "Epoch: 40 \tLoss: 4.4890947\n",
      "Epoch: 42 \tLoss: 4.496712\n",
      "Epoch: 44 \tLoss: 4.442803\n",
      "Epoch: 46 \tLoss: 4.459839\n",
      "Epoch: 48 \tLoss: 4.417677\n"
     ]
    }
   ],
   "source": [
    "#Run the first model on the training set.\n",
    "\n",
    "n_epochs = 50\n",
    "batch_size = 25\n",
    "n_batches = int(np.ceil(m_1 / batch_size))\n",
    "start_epoch = 0\n",
    "#n_batches = 5\n",
    "\n",
    "checkpoint_path_1 = \"Machine Learning Capstone Project/tmp/1_train_dnn_reg_model.ckpt\"\n",
    "checkpoint_epoch_path_1 = checkpoint_path_1 + \".epoch\"\n",
    "final_model_path_1 = \"Machine Learning Capstone Project/1_train_dnn_reg_model\"\n",
    "StartTime = time.time()\n",
    "\n",
    "with tf.Session() as sess_1:\n",
    "    if os.path.isfile(checkpoint_epoch_path_1):\n",
    "        # if the checkpoint file exists, restore the model and load the epoch number\n",
    "        with open(checkpoint_epoch_path_1, \"rb\") as f:\n",
    "            start_epoch = int(f.read())\n",
    "        print(\"Training was interrupted. Continuing at epoch\", start_epoch)\n",
    "        saver.restore(sess_1, checkpoint_path_1)\n",
    "    else:\n",
    "        start_epoch = 0\n",
    "        sess_1.run(init)\n",
    "        sess_1.run(init_l)\n",
    "        for epoch in range(start_epoch, n_epochs):\n",
    "            for iteration in range(int(np.ceil(len(X_train_1) // batch_size))):\n",
    "                X_batch_1, y_batch_1 = random_batch(X_train_1, y_train_1, batch_size)\n",
    "                sess_1.run(training_op, feed_dict={X: X_batch_1, y: y_batch_1})          \n",
    "            \n",
    "            loss_val, summary_str = sess_1.run([loss, loss_summary], feed_dict = {X : X_test_set_1, y : y_test_set_1})\n",
    "            file_writer.add_summary(summary_str, epoch)\n",
    "            if epoch % 2 == 0:\n",
    "                print(\"Epoch:\", epoch, \"\\tLoss:\", loss_val)\n",
    "                saver.save(sess_1, checkpoint_path_1)\n",
    "                with open(checkpoint_epoch_path_1, \"wb\") as f:\n",
    "                    f.write(b\"%d\" % (epoch + 1))\n",
    "    \n",
    "    saver.save(sess_1, final_model_path_1)      \n",
    "EndTime = time.time()"
   ]
  },
  {
   "cell_type": "code",
   "execution_count": 756,
   "metadata": {},
   "outputs": [],
   "source": [
    "with tf.Session() as sess_1:\n",
    "    if os.path.isfile(checkpoint_epoch_path_1):\n",
    "        os.remove(checkpoint_epoch_path_1)"
   ]
  },
  {
   "cell_type": "code",
   "execution_count": 755,
   "metadata": {},
   "outputs": [],
   "source": [
    "#Processing Time for 1st Model\n",
    "\n",
    "Time_Model_1 = round(EndTime-StartTime, 4) "
   ]
  },
  {
   "cell_type": "code",
   "execution_count": 757,
   "metadata": {},
   "outputs": [
    {
     "name": "stdout",
     "output_type": "stream",
     "text": [
      "Epoch: 0 \tLoss: 5.808504\n",
      "Epoch: 2 \tLoss: 5.6479864\n",
      "Epoch: 4 \tLoss: 5.520434\n",
      "Epoch: 6 \tLoss: 5.415953\n",
      "Epoch: 8 \tLoss: 5.2948112\n",
      "Epoch: 10 \tLoss: 5.1572747\n",
      "Epoch: 12 \tLoss: 5.038416\n",
      "Epoch: 14 \tLoss: 4.939325\n",
      "Epoch: 16 \tLoss: 4.8844976\n",
      "Epoch: 18 \tLoss: 4.8226967\n",
      "Epoch: 20 \tLoss: 4.776817\n",
      "Epoch: 22 \tLoss: 4.7666445\n",
      "Epoch: 24 \tLoss: 4.6379333\n",
      "Epoch: 26 \tLoss: 4.6113853\n",
      "Epoch: 28 \tLoss: 4.6368275\n",
      "Epoch: 30 \tLoss: 4.4628925\n",
      "Epoch: 32 \tLoss: 4.431202\n",
      "Epoch: 34 \tLoss: 4.4332685\n",
      "Epoch: 36 \tLoss: 4.4195347\n",
      "Epoch: 38 \tLoss: 4.297818\n",
      "Epoch: 40 \tLoss: 4.403634\n",
      "Epoch: 42 \tLoss: 4.22228\n",
      "Epoch: 44 \tLoss: 4.341417\n",
      "Epoch: 46 \tLoss: 4.198443\n",
      "Epoch: 48 \tLoss: 4.3289757\n"
     ]
    }
   ],
   "source": [
    "#Run the Second model on the training set.\n",
    "#reset epoch to 1\n",
    "\n",
    "n_epochs = 50\n",
    "start_epoch = 0\n",
    "batch_size = 25\n",
    "n_batches = int(np.ceil(m_2 / batch_size))\n",
    "#n_batches = 5\n",
    "\n",
    "checkpoint_path_2 = \"Machine Learning Capstone Project/tmp/2_train_dnn_reg_model.ckpt\"\n",
    "checkpoint_epoch_path_2 = checkpoint_path_2 + \".epoch\"\n",
    "final_model_path_2 = \"Machine Learning Capstone Project/2_train_dnn_reg_model\"\n",
    "\n",
    "StartTime = time.time()\n",
    "\n",
    "with tf.Session() as sess_2:\n",
    "    if os.path.isfile(checkpoint_epoch_path_2):\n",
    "        # if the checkpoint file exists, restore the model and load the epoch number\n",
    "        with open(checkpoint_epoch_path_2, \"rb\") as f:\n",
    "            start_epoch = int(f.read())\n",
    "        print(\"Training was interrupted. Continuing at epoch\", start_epoch)\n",
    "        saver.restore(sess_2, checkpoint_path_2)\n",
    "    else:\n",
    "        start_epoch = 0\n",
    "        sess_2.run(init)\n",
    "        sess_2.run(init_l)\n",
    "        for epoch in range(start_epoch, n_epochs):\n",
    "            for iteration in range(int(np.ceil(len(X_train_2) // batch_size))):\n",
    "                X_batch_2, y_batch_2 = random_batch(X_train_2, y_train_2, batch_size)\n",
    "                sess_2.run(training_op, feed_dict={X: X_batch_2, y: y_batch_2})          \n",
    "            \n",
    "            loss_val, summary_str = sess_2.run([loss, loss_summary], feed_dict = {X : X_test_set_2, y : y_test_set_2})\n",
    "            file_writer.add_summary(summary_str, epoch)\n",
    "            if epoch % 2 == 0:\n",
    "                print(\"Epoch:\", epoch, \"\\tLoss:\", loss_val)\n",
    "                saver.save(sess_2, checkpoint_path_2)\n",
    "                with open(checkpoint_epoch_path_2, \"wb\") as f:\n",
    "                    f.write(b\"%d\" % (epoch + 1))\n",
    "    \n",
    "    saver.save(sess_2, final_model_path_2)   \n",
    "EndTime = time.time()"
   ]
  },
  {
   "cell_type": "code",
   "execution_count": 758,
   "metadata": {},
   "outputs": [],
   "source": [
    "with tf.Session() as sess:\n",
    "    if os.path.isfile(checkpoint_epoch_path_2):\n",
    "        os.remove(checkpoint_epoch_path_2)"
   ]
  },
  {
   "cell_type": "code",
   "execution_count": 759,
   "metadata": {},
   "outputs": [],
   "source": [
    "Time_Model_2 = round(EndTime-StartTime, 4)"
   ]
  },
  {
   "cell_type": "code",
   "execution_count": 760,
   "metadata": {},
   "outputs": [
    {
     "name": "stdout",
     "output_type": "stream",
     "text": [
      "Epoch: 0 \tLoss: 1.8207916\n",
      "Epoch: 2 \tLoss: 1.692906\n",
      "Epoch: 4 \tLoss: 1.6297634\n",
      "Epoch: 6 \tLoss: 1.5578772\n",
      "Epoch: 8 \tLoss: 1.51552\n",
      "Epoch: 10 \tLoss: 1.4716648\n",
      "Epoch: 12 \tLoss: 1.4518063\n",
      "Epoch: 14 \tLoss: 1.4532857\n",
      "Epoch: 16 \tLoss: 1.406571\n",
      "Epoch: 18 \tLoss: 1.4269931\n",
      "Epoch: 20 \tLoss: 1.3929126\n",
      "Epoch: 22 \tLoss: 1.4891222\n",
      "Epoch: 24 \tLoss: 1.4036527\n",
      "Epoch: 26 \tLoss: 1.4880481\n",
      "Epoch: 28 \tLoss: 1.5132484\n",
      "Epoch: 30 \tLoss: 1.4772747\n",
      "Epoch: 32 \tLoss: 1.5019193\n",
      "Epoch: 34 \tLoss: 1.52533\n",
      "Epoch: 36 \tLoss: 1.3969017\n",
      "Epoch: 38 \tLoss: 1.3973413\n",
      "Epoch: 40 \tLoss: 1.2981726\n",
      "Epoch: 42 \tLoss: 1.270164\n",
      "Epoch: 44 \tLoss: 1.3028299\n",
      "Epoch: 46 \tLoss: 1.3206275\n",
      "Epoch: 48 \tLoss: 1.3259146\n"
     ]
    }
   ],
   "source": [
    "#Run the third model on the training set.\n",
    "\n",
    "n_epochs = 50\n",
    "start_epoch = 0\n",
    "batch_size = 25\n",
    "n_batches = int(np.ceil(m_3 / batch_size))\n",
    "#n_batches = 5\n",
    "\n",
    "checkpoint_path_3 = \"Machine Learning Capstone Project/tmp/3_train_dnn_reg_model.ckpt\"\n",
    "checkpoint_epoch_path_3 = checkpoint_path_3 + \".epoch\"\n",
    "final_model_path_3 = \"Machine Learning Capstone Project/3_train_dnn_reg_model\"\n",
    "\n",
    "StartTime = time.time()\n",
    "\n",
    "with tf.Session() as sess_3:\n",
    "    if os.path.isfile(checkpoint_epoch_path_3):\n",
    "        # if the checkpoint file exists, restore the model and load the epoch number\n",
    "        with open(checkpoint_epoch_path_3, \"rb\") as f:\n",
    "            start_epoch = int(f.read())\n",
    "        print(\"Training was interrupted. Continuing at epoch\", start_epoch)\n",
    "        saver.restore(sess_3, checkpoint_path_3)\n",
    "    else:\n",
    "        start_epoch = 0\n",
    "        sess_3.run(init)\n",
    "        sess_3.run(init_l)\n",
    "        for epoch in range(start_epoch, n_epochs):\n",
    "            for iteration in range(int(np.ceil(len(X_train_3) // batch_size))):\n",
    "                X_batch_3, y_batch_3 = random_batch(X_train_3, y_train_3, batch_size)\n",
    "                sess_3.run(training_op, feed_dict={X: X_batch_3, y: y_batch_3})          \n",
    "            \n",
    "            loss_val, summary_str = sess_3.run([loss, loss_summary], feed_dict = {X : X_test_set_3, y : y_test_set_3})\n",
    "            file_writer.add_summary(summary_str, epoch)\n",
    "            if epoch % 2 == 0:\n",
    "                print(\"Epoch:\", epoch, \"\\tLoss:\", loss_val)\n",
    "                saver.save(sess_3, checkpoint_path_3)\n",
    "                with open(checkpoint_epoch_path_3, \"wb\") as f:\n",
    "                    f.write(b\"%d\" % (epoch + 1))\n",
    "    \n",
    "    saver.save(sess_3, final_model_path_3)  \n",
    "EndTime = time.time()"
   ]
  },
  {
   "cell_type": "code",
   "execution_count": 761,
   "metadata": {},
   "outputs": [],
   "source": [
    "with tf.Session() as sess:\n",
    "    if os.path.isfile(checkpoint_epoch_path_3):\n",
    "        os.remove(checkpoint_epoch_path_3)"
   ]
  },
  {
   "cell_type": "code",
   "execution_count": 762,
   "metadata": {},
   "outputs": [],
   "source": [
    "Time_Model_3 = round(EndTime-StartTime, 4)"
   ]
  },
  {
   "cell_type": "code",
   "execution_count": 763,
   "metadata": {},
   "outputs": [
    {
     "name": "stdout",
     "output_type": "stream",
     "text": [
      "Epoch: 0 \tLoss: 15.7746525\n",
      "Epoch: 2 \tLoss: 15.216796\n",
      "Epoch: 4 \tLoss: 14.786373\n",
      "Epoch: 6 \tLoss: 14.471953\n",
      "Epoch: 8 \tLoss: 14.19552\n",
      "Epoch: 10 \tLoss: 13.978713\n",
      "Epoch: 12 \tLoss: 13.777649\n",
      "Epoch: 14 \tLoss: 13.567004\n",
      "Epoch: 16 \tLoss: 13.338984\n",
      "Epoch: 18 \tLoss: 13.121774\n",
      "Epoch: 20 \tLoss: 12.916812\n",
      "Epoch: 22 \tLoss: 12.770027\n",
      "Epoch: 24 \tLoss: 12.670589\n",
      "Epoch: 26 \tLoss: 12.535556\n",
      "Epoch: 28 \tLoss: 12.396753\n",
      "Epoch: 30 \tLoss: 12.2529955\n",
      "Epoch: 32 \tLoss: 12.1780815\n",
      "Epoch: 34 \tLoss: 12.088739\n",
      "Epoch: 36 \tLoss: 12.039342\n",
      "Epoch: 38 \tLoss: 11.903862\n",
      "Epoch: 40 \tLoss: 11.879331\n",
      "Epoch: 42 \tLoss: 12.554613\n",
      "Epoch: 44 \tLoss: 12.113119\n",
      "Epoch: 46 \tLoss: 12.121243\n",
      "Epoch: 48 \tLoss: 12.736547\n"
     ]
    }
   ],
   "source": [
    "#Run the Fourth model on the training set.\n",
    "\n",
    "n_epochs = 50\n",
    "start_epoch = 0\n",
    "batch_size = 25\n",
    "n_batches = int(np.ceil(m_4 / batch_size))\n",
    "#n_batches = 5\n",
    "\n",
    "checkpoint_path_4 = \"Machine Learning Capstone Project/tmp/4_train_dnn_reg_model.ckpt\"\n",
    "checkpoint_epoch_path_4 = checkpoint_path_4 + \".epoch\"\n",
    "final_model_path_4 = \"Machine Learning Capstone Project/4_train_dnn_reg_model\"\n",
    "\n",
    "StartTime = time.time()\n",
    "\n",
    "with tf.Session() as sess_4:\n",
    "    if os.path.isfile(checkpoint_epoch_path_4):\n",
    "        # if the checkpoint file exists, restore the model and load the epoch number\n",
    "        with open(checkpoint_epoch_path_4, \"rb\") as f:\n",
    "            start_epoch = int(f.read())\n",
    "        print(\"Training was interrupted. Continuing at epoch\", start_epoch)\n",
    "        saver.restore(sess_4, checkpoint_path_4)\n",
    "    else:\n",
    "        start_epoch = 0\n",
    "        sess_4.run(init)\n",
    "        sess_4.run(init_l)\n",
    "        for epoch in range(start_epoch, n_epochs):\n",
    "            for iteration in range(int(np.ceil(len(X_train_4) // batch_size))):\n",
    "                X_batch_4, y_batch_4 = random_batch(X_train_4, y_train_4, batch_size)\n",
    "                sess_4.run(training_op, feed_dict={X: X_batch_4, y: y_batch_4})          \n",
    "            \n",
    "            loss_val, summary_str = sess_4.run([loss, loss_summary], feed_dict = {X : X_test_set_4, y : y_test_set_4})\n",
    "            file_writer.add_summary(summary_str, epoch)\n",
    "            if epoch % 2 == 0:\n",
    "                print(\"Epoch:\", epoch, \"\\tLoss:\", loss_val)\n",
    "                saver.save(sess_4, checkpoint_path_4)\n",
    "                with open(checkpoint_epoch_path_4, \"wb\") as f:\n",
    "                    f.write(b\"%d\" % (epoch + 1))\n",
    "    \n",
    "    saver.save(sess_4, final_model_path_4)  \n",
    "EndTime = time.time()"
   ]
  },
  {
   "cell_type": "code",
   "execution_count": 764,
   "metadata": {},
   "outputs": [],
   "source": [
    "with tf.Session() as sess:\n",
    "    if os.path.isfile(checkpoint_epoch_path_4):\n",
    "        os.remove(checkpoint_epoch_path_4)"
   ]
  },
  {
   "cell_type": "code",
   "execution_count": 765,
   "metadata": {},
   "outputs": [],
   "source": [
    "Time_Model_4 = round(EndTime-StartTime, 4)"
   ]
  },
  {
   "cell_type": "code",
   "execution_count": 766,
   "metadata": {},
   "outputs": [
    {
     "name": "stdout",
     "output_type": "stream",
     "text": [
      "Epoch: 0 \tLoss: 15.934275\n",
      "Epoch: 2 \tLoss: 15.618091\n",
      "Epoch: 4 \tLoss: 15.969795\n",
      "Epoch: 6 \tLoss: 16.191633\n",
      "Epoch: 8 \tLoss: 16.355453\n",
      "Epoch: 10 \tLoss: 16.449774\n",
      "Epoch: 12 \tLoss: 16.439255\n",
      "Epoch: 14 \tLoss: 16.579393\n",
      "Epoch: 16 \tLoss: 16.617498\n",
      "Epoch: 18 \tLoss: 16.775131\n",
      "Epoch: 20 \tLoss: 16.7786\n",
      "Epoch: 22 \tLoss: 16.889427\n",
      "Epoch: 24 \tLoss: 17.015434\n",
      "Epoch: 26 \tLoss: 17.002493\n",
      "Epoch: 28 \tLoss: 17.123163\n",
      "Epoch: 30 \tLoss: 16.835007\n",
      "Epoch: 32 \tLoss: 17.072754\n",
      "Epoch: 34 \tLoss: 17.117546\n",
      "Epoch: 36 \tLoss: 17.275518\n",
      "Epoch: 38 \tLoss: 17.276669\n",
      "Epoch: 40 \tLoss: 16.82499\n",
      "Epoch: 42 \tLoss: 17.411573\n",
      "Epoch: 44 \tLoss: 17.125908\n",
      "Epoch: 46 \tLoss: 17.276062\n",
      "Epoch: 48 \tLoss: 17.337252\n"
     ]
    }
   ],
   "source": [
    "#Run the Fifth model on the training set.\n",
    "start_epoch = 0\n",
    "n_epochs = 50\n",
    "batch_size = 25\n",
    "n_batches = int(np.ceil(m_5 / batch_size))\n",
    "#n_batches = 5\n",
    "\n",
    "checkpoint_path_5 = \"Machine Learning Capstone Project/tmp/5_train_dnn_reg_model.ckpt\"\n",
    "checkpoint_epoch_path_5 = checkpoint_path_5 + \".epoch\"\n",
    "final_model_path_5 = \"Machine Learning Capstone Project/5_train_dnn_reg_model\"\n",
    "\n",
    "StartTime = time.time()\n",
    "with tf.Session() as sess_5:\n",
    "    if os.path.isfile(checkpoint_epoch_path_5):\n",
    "        # if the checkpoint file exists, restore the model and load the epoch number\n",
    "        with open(checkpoint_epoch_path_5, \"rb\") as f:\n",
    "            start_epoch = int(f.read())\n",
    "        print(\"Training was interrupted. Continuing at epoch\", start_epoch)\n",
    "        saver.restore(sess_5, checkpoint_path_5)\n",
    "    else:\n",
    "        start_epoch = 0\n",
    "        sess_5.run(init)\n",
    "        sess_5.run(init_l)\n",
    "        for epoch in range(start_epoch, n_epochs):\n",
    "            for iteration in range(int(np.ceil(len(X_train_5) // batch_size))):\n",
    "                X_batch_5, y_batch_5 = random_batch(X_train_5, y_train_5, batch_size)\n",
    "                sess_5.run(training_op, feed_dict={X: X_batch_5, y: y_batch_5})          \n",
    "            \n",
    "            loss_val, summary_str = sess_5.run([loss, loss_summary], feed_dict = {X : X_test_set_5, y : y_test_set_5})\n",
    "            file_writer.add_summary(summary_str, epoch)\n",
    "            if epoch % 2 == 0:\n",
    "                print(\"Epoch:\", epoch, \"\\tLoss:\", loss_val)\n",
    "                saver.save(sess_5, checkpoint_path_5)\n",
    "                with open(checkpoint_epoch_path_5, \"wb\") as f:\n",
    "                    f.write(b\"%d\" % (epoch + 1))\n",
    "    \n",
    "    saver.save(sess_5, final_model_path_5)      \n",
    "EndTime = time.time()"
   ]
  },
  {
   "cell_type": "code",
   "execution_count": 767,
   "metadata": {},
   "outputs": [],
   "source": [
    "with tf.Session() as sess_5:\n",
    "    if os.path.isfile(checkpoint_epoch_path_5):\n",
    "        os.remove(checkpoint_epoch_path_5)"
   ]
  },
  {
   "cell_type": "code",
   "execution_count": 768,
   "metadata": {},
   "outputs": [],
   "source": [
    "Time_Model_5 = round(EndTime-StartTime, 4)"
   ]
  },
  {
   "cell_type": "markdown",
   "metadata": {},
   "source": [
    "##### Now We can see the results of All the 5 Tensor Flow Models "
   ]
  },
  {
   "cell_type": "code",
   "execution_count": 769,
   "metadata": {},
   "outputs": [
    {
     "name": "stdout",
     "output_type": "stream",
     "text": [
      "INFO:tensorflow:Restoring parameters from Machine Learning Capstone Project/1_train_dnn_reg_model\n",
      "INFO:tensorflow:Restoring parameters from Machine Learning Capstone Project/2_train_dnn_reg_model\n",
      "INFO:tensorflow:Restoring parameters from Machine Learning Capstone Project/3_train_dnn_reg_model\n",
      "INFO:tensorflow:Restoring parameters from Machine Learning Capstone Project/4_train_dnn_reg_model\n",
      "INFO:tensorflow:Restoring parameters from Machine Learning Capstone Project/5_train_dnn_reg_model\n"
     ]
    }
   ],
   "source": [
    "#MAE Test Set1\n",
    "with tf.Session() as sess_1:\n",
    "    saver.restore(sess_1, final_model_path_1)\n",
    "    mae_val_1 = mae.eval(feed_dict={X : X_test_set_1, y : y_test_set_1})\n",
    "\n",
    "#MAE Test Set2\n",
    "with tf.Session() as sess_2:\n",
    "    saver.restore(sess_2, final_model_path_2)\n",
    "    mae_val_2 = mae.eval(feed_dict={X : X_test_set_2, y : y_test_set_2})\n",
    "\n",
    "#MAE Test Set3\n",
    "with tf.Session() as sess_3:\n",
    "    saver.restore(sess_3, final_model_path_3)\n",
    "    mae_val_3 = mae.eval(feed_dict={X : X_test_set_3, y : y_test_set_3})\n",
    "\n",
    "#MAE Test Set4\n",
    "with tf.Session() as sess_4:\n",
    "    saver.restore(sess_4, final_model_path_4)\n",
    "    mae_val_4 = mae.eval(feed_dict={X : X_test_set_4, y : y_test_set_4})\n",
    "    \n",
    "#MAE Test Set2\n",
    "with tf.Session() as sess_5:\n",
    "    saver.restore(sess_5, final_model_path_5)\n",
    "    mae_val_5 = mae.eval(feed_dict={X : X_test_set_5, y : y_test_set_5})"
   ]
  },
  {
   "cell_type": "code",
   "execution_count": 770,
   "metadata": {},
   "outputs": [
    {
     "name": "stdout",
     "output_type": "stream",
     "text": [
      "The Mean Absolute error for the first model is 0.71002024\n",
      "The Mean Absolute error for the second model is 0.67541766\n",
      "The Mean Absolute error for the Third model is 0.46468568\n",
      "The Mean Absolute error for the fourth model is 0.93327\n",
      "The Mean Absolute error for the fifth model is 1.4233453\n"
     ]
    }
   ],
   "source": [
    "print(\"The Mean Absolute error for the first model is\", mae_val_1)\n",
    "print(\"The Mean Absolute error for the second model is\", mae_val_2)\n",
    "print(\"The Mean Absolute error for the Third model is\", mae_val_3)\n",
    "print(\"The Mean Absolute error for the fourth model is\", mae_val_4)\n",
    "print(\"The Mean Absolute error for the fifth model is\", mae_val_5)"
   ]
  },
  {
   "cell_type": "code",
   "execution_count": 771,
   "metadata": {},
   "outputs": [
    {
     "name": "stdout",
     "output_type": "stream",
     "text": [
      "INFO:tensorflow:Restoring parameters from Machine Learning Capstone Project/1_train_dnn_reg_model\n",
      "INFO:tensorflow:Restoring parameters from Machine Learning Capstone Project/2_train_dnn_reg_model\n",
      "INFO:tensorflow:Restoring parameters from Machine Learning Capstone Project/3_train_dnn_reg_model\n",
      "INFO:tensorflow:Restoring parameters from Machine Learning Capstone Project/4_train_dnn_reg_model\n",
      "INFO:tensorflow:Restoring parameters from Machine Learning Capstone Project/5_train_dnn_reg_model\n"
     ]
    }
   ],
   "source": [
    "# HITS@10 test_set_1\n",
    "with tf.Session() as sess_1:\n",
    "    saver.restore(sess_1, final_model_path_1)\n",
    "    hits_val_1 = hits_10.eval(feed_dict={X : X_test_set_1, y : y_test_set_1[None]})\n",
    "\n",
    "with tf.Session() as sess_2:\n",
    "    saver.restore(sess_2, final_model_path_2)\n",
    "    hits_val_2 = hits_10.eval(feed_dict={X : X_test_set_2, y : y_test_set_2[None]})\n",
    "    \n",
    "with tf.Session() as sess_3:\n",
    "    saver.restore(sess_3, final_model_path_3)\n",
    "    hits_val_3 = hits_10.eval(feed_dict={X : X_test_set_3, y : y_test_set_3[None]})\n",
    "    \n",
    "with tf.Session() as sess_4:\n",
    "    saver.restore(sess_4, final_model_path_4)\n",
    "    hits_val_4 = hits_10.eval(feed_dict={X : X_test_set_4, y : y_test_set_4[None]})\n",
    "    \n",
    "with tf.Session() as sess_5:\n",
    "    saver.restore(sess_5, final_model_path_5)\n",
    "    hits_val_5 = hits_10.eval(feed_dict={X : X_test_set_5, y : y_test_set_5[None]})"
   ]
  },
  {
   "cell_type": "code",
   "execution_count": 772,
   "metadata": {},
   "outputs": [
    {
     "name": "stdout",
     "output_type": "stream",
     "text": [
      "The Hits 10 value for the first model is 7\n",
      "The Hits 10 value for the second model is 5\n",
      "The Hits 10 value for the third model is 6\n",
      "The Hits 10 value for the fourth model is 6\n",
      "The Hits 10 value for the fifth model is 1\n"
     ]
    }
   ],
   "source": [
    "print(\"The Hits 10 value for the first model is\", hits_val_1)\n",
    "print(\"The Hits 10 value for the second model is\", hits_val_2)\n",
    "print(\"The Hits 10 value for the third model is\", hits_val_3)\n",
    "print(\"The Hits 10 value for the fourth model is\", hits_val_4)\n",
    "print(\"The Hits 10 value for the fifth model is\", hits_val_5)"
   ]
  },
  {
   "cell_type": "code",
   "execution_count": 773,
   "metadata": {},
   "outputs": [
    {
     "name": "stdout",
     "output_type": "stream",
     "text": [
      "INFO:tensorflow:Restoring parameters from Machine Learning Capstone Project/1_train_dnn_reg_model\n",
      "INFO:tensorflow:Restoring parameters from Machine Learning Capstone Project/2_train_dnn_reg_model\n",
      "INFO:tensorflow:Restoring parameters from Machine Learning Capstone Project/3_train_dnn_reg_model\n",
      "INFO:tensorflow:Restoring parameters from Machine Learning Capstone Project/4_train_dnn_reg_model\n",
      "INFO:tensorflow:Restoring parameters from Machine Learning Capstone Project/5_train_dnn_reg_model\n"
     ]
    }
   ],
   "source": [
    "with tf.Session() as sess_1:\n",
    "    sess_1.run(tf.local_variables_initializer())\n",
    "    saver.restore(sess_1, final_model_path_1)\n",
    "    update_op_val = update_op.eval(feed_dict={X : X_test_set_1, y : y_test_set_1})\n",
    "    auc_val_1 = auc.eval(feed_dict={X : X_test_set_1, y : y_test_set_1})\n",
    "    \n",
    "with tf.Session() as sess_2:\n",
    "    sess_2.run(tf.local_variables_initializer())\n",
    "    saver.restore(sess_2, final_model_path_2)\n",
    "    update_op_val = update_op.eval(feed_dict={X : X_test_set_2, y : y_test_set_2})\n",
    "    auc_val_2 = auc.eval(feed_dict={X : X_test_set_2, y : y_test_set_2})\n",
    "    \n",
    "with tf.Session() as sess_3:\n",
    "    sess_3.run(tf.local_variables_initializer())\n",
    "    saver.restore(sess_3, final_model_path_3)\n",
    "    update_op_val = update_op.eval(feed_dict={X : X_test_set_3, y : y_test_set_3})\n",
    "    auc_val_3 = auc.eval(feed_dict={X : X_test_set_3, y : y_test_set_3})\n",
    "    \n",
    "with tf.Session() as sess_4:\n",
    "    sess_4.run(tf.local_variables_initializer())\n",
    "    saver.restore(sess_4, final_model_path_4)\n",
    "    update_op_val = update_op.eval(feed_dict={X : X_test_set_4, y : y_test_set_4})\n",
    "    auc_val_4 = auc.eval(feed_dict={X : X_test_set_4, y : y_test_set_4})\n",
    "    \n",
    "with tf.Session() as sess_5:\n",
    "    sess_5.run(tf.local_variables_initializer())\n",
    "    saver.restore(sess_5, final_model_path_5)\n",
    "    update_op_val = update_op.eval(feed_dict={X : X_test_set_5, y : y_test_set_5})\n",
    "    auc_val_5 = auc.eval(feed_dict={X : X_test_set_5, y : y_test_set_5})"
   ]
  },
  {
   "cell_type": "code",
   "execution_count": 774,
   "metadata": {},
   "outputs": [
    {
     "name": "stdout",
     "output_type": "stream",
     "text": [
      "The AUC value for the first model is 0.8333333\n",
      "The AUC value for the second model is 0.7222222\n",
      "The AUC value for the third model is 0.7777778\n",
      "The AUC value for the fourth model is 0.7777778\n",
      "The AUC value for the fifth model is 0.50000006\n"
     ]
    }
   ],
   "source": [
    "print(\"The AUC value for the first model is\", auc_val_1)\n",
    "print(\"The AUC value for the second model is\", auc_val_2)\n",
    "print(\"The AUC value for the third model is\", auc_val_3)\n",
    "print(\"The AUC value for the fourth model is\", auc_val_4)\n",
    "print(\"The AUC value for the fifth model is\", auc_val_5)"
   ]
  },
  {
   "cell_type": "code",
   "execution_count": 777,
   "metadata": {},
   "outputs": [
    {
     "name": "stdout",
     "output_type": "stream",
     "text": [
      "The Processing Time for the first model is 74.4496 seconds\n",
      "The Processing Time for the second model is 133.2392 seconds\n",
      "The Processing Time for the Third model is 190.0413 seconds\n",
      "The Processing Time for the fourth model is 249.0824 seconds\n",
      "The Processing Time for the fifth model is 336.3496 seconds\n"
     ]
    }
   ],
   "source": [
    "#Get the Processing Times\n",
    "\n",
    "print(\"The Processing Time for the first model is\",Time_Model_1,\"seconds\")\n",
    "print(\"The Processing Time for the second model is\",Time_Model_2,\"seconds\")\n",
    "print(\"The Processing Time for the Third model is\",Time_Model_3,\"seconds\")\n",
    "print(\"The Processing Time for the fourth model is\", Time_Model_4,\"seconds\")\n",
    "print(\"The Processing Time for the fifth model is\", Time_Model_5,\"seconds\")"
   ]
  },
  {
   "cell_type": "code",
   "execution_count": 780,
   "metadata": {},
   "outputs": [],
   "source": [
    "#List for Neural Networks\n",
    "list_of_hits = [hits_val_1, hits_val_2, hits_val_3,hits_val_4,hits_val_5]\n",
    "list_of_auc = [auc_val_1,auc_val_2,auc_val_3,auc_val_4,auc_val_5]\n",
    "list_of_mae = [mae_val_1,mae_val_2,mae_val_3,mae_val_4,mae_val_5]\n",
    "list_of_eval_time = [Time_Model_1,Time_Model_2,Time_Model_3,Time_Model_4,Time_Model_5]"
   ]
  },
  {
   "cell_type": "code",
   "execution_count": 781,
   "metadata": {},
   "outputs": [
    {
     "data": {
      "image/png": "[encoded data removed]",
      "text/plain": [
       "<matplotlib.figure.Figure at 0x25f0becfc88>"
      ]
     },
     "metadata": {},
     "output_type": "display_data"
    }
   ],
   "source": [
    "#Plots for Neural Networks\n",
    "\n",
    "plt.figure(figsize=(25, 5))\n",
    "\n",
    "\n",
    "plt.subplot(141)\n",
    "y_hits = list_of_hits\n",
    "x_hits = ['True_Hits1' ,'True_Hits2' ,'True_Hits3' ,'True_Hits4','True_Hits5']\n",
    "plt.xticks(rotation = 'vertical')\n",
    "width = 1/1.5\n",
    "plt.bar(x_hits, y_hits, width, color=['black', 'red', 'green', 'blue', 'cyan'])\n",
    "plt.xlabel('Test Sets')\n",
    "plt.ylabel('Mean Hits')\n",
    "plt.title('Bar Plot of Hits for all 5 Test Sets')\n",
    "\n",
    "plt.subplot(142)\n",
    "y_hits = list_of_auc\n",
    "x_hits = ['ROC_MODEL1','ROC_MODEL2','ROC_MODEL3','ROC_MODEL4','ROC_MODEL5']\n",
    "plt.xticks(rotation = 'vertical')\n",
    "width = 1/1.5\n",
    "plt.bar(x_hits, y_hits, width, color=['black', 'red', 'green', 'blue', 'cyan'])\n",
    "plt.xlabel('Test Sets')\n",
    "plt.ylabel('Mean AUC')\n",
    "plt.title('Bar Plot of AUC for all 5 Test Sets')\n",
    "\n",
    "plt.subplot(143)\n",
    "y_hits = list_of_mae\n",
    "x_hits = ['MAE_Model_1','MAE_Model_2','MAE_Model_3','MAE_Model_4','MAE_Model_5']\n",
    "plt.xticks(rotation = 'vertical')\n",
    "width = 1/1.5\n",
    "plt.bar(x_hits, y_hits, width, color=['black', 'red', 'green', 'blue', 'cyan'])\n",
    "plt.xlabel('Test Sets')\n",
    "plt.ylabel('Mean MAE')\n",
    "plt.title('Bar Plot of MAE for all 5 Test Sets')\n",
    "\n",
    "plt.subplot(144)\n",
    "y_hits = list_of_eval_time\n",
    "x_hits = ['Model1_Time','Model2_Time','Model3_Time','Model4_Time','Model5_Time']\n",
    "plt.xticks(rotation = 'vertical')\n",
    "width = 1/1.5\n",
    "plt.bar(x_hits, y_hits, width, color=['black', 'red', 'green', 'blue', 'cyan'])\n",
    "plt.xlabel('Test Sets')\n",
    "plt.ylabel('Mean Time')\n",
    "plt.title('Bar Plot of Evaluation Time for all 5 Test Sets')\n",
    "plt.show()"
   ]
  },
  {
   "cell_type": "markdown",
   "metadata": {},
   "source": [
    "### SUMMARY"
   ]
  },
  {
   "cell_type": "markdown",
   "metadata": {},
   "source": [
    "\n",
    "- Based on the Number of Hits, Nueral Networks performs better than Random Forest.\n",
    "  <pre>\n",
    "  - Random Forest   = [4, 2, 4, 7, 0]\n",
    "  - Neural Networks = [7, 5, 6, 6, 1]\n",
    "  </pre>\n",
    "  \n",
    "- The Area under the curve is better for the Neural Network for the first 4 Models. But it decreases for 5th Model\n",
    "  <pre>\n",
    "  - Random Forest    = [0.8166666, 0.6666666, 0.7611111, 0.7000002, 0.57507660]\n",
    "  - Neural Networks  = [0.8333333, 0.7222222, 0.7777778, 0.7777778, 0.50000006]\n",
    "  </pre>\n",
    "  \n",
    "- The Mean Absolute Error is better for the Neural Networks (Lesser) for the first model. But it increases for the 5th Model\n",
    "  <pre>\n",
    "  - Random Forest    = [0.91120835, 0.70293223, 0.50684041, 1.20622, 0.2282738]\n",
    "  - Neural Networks  = [0.71002024, 0.67541766, 0.46468568, 0.93327, 1.4233453]\n",
    "  </pre>\n",
    "  \n",
    "- With the Number of Input and Hidden Layers, Processing Time increases for Neural Networks, when compared to Random Forest \n",
    "   <pre>\n",
    "  - Random Forest    = [0.003, 0.005, 0.004, 0.001, 0.003]\n",
    "  - Neural Networks  = [74.4496, 133.2392, 190.0413, 249.0824, 336.3496]\n",
    "  </pre>"
   ]
  },
  {
   "cell_type": "markdown",
   "metadata": {},
   "source": [
    "### CONCLUSION"
   ]
  },
  {
   "cell_type": "markdown",
   "metadata": {},
   "source": [
    "Based on the results above, Nueral Networks is a better model than Random Forest. Thus my findings doesn't supports the conclusions of the research paper."
   ]
  }
 ],
 "metadata": {
  "kernelspec": {
   "display_name": "Python 3",
   "language": "python",
   "name": "python3"
  },
  "language_info": {
   "codemirror_mode": {
    "name": "ipython",
    "version": 3
   },
   "file_extension": ".py",
   "mimetype": "text/x-python",
   "name": "python",
   "nbconvert_exporter": "python",
   "pygments_lexer": "ipython3",
   "version": "3.6.4"
  }
 },
 "nbformat": 4,
 "nbformat_minor": 2
}
