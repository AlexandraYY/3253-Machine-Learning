{
 "cells": [
  {
   "cell_type": "markdown",
   "metadata": {},
   "source": [
    "### Your name:\n",
    "\n",
    "<pre>Ashish Gupta</pre>\n",
    "\n",
    "### Collaborators:\n",
    "\n",
    "<pre>Formed a study group with Isaac Aktam and Konrad Korzeniewski</pre>\n"
   ]
  },
  {
   "cell_type": "code",
   "execution_count": 122,
   "metadata": {
    "collapsed": true
   },
   "outputs": [],
   "source": [
    "import numpy as np\n",
    "import pandas as pd\n",
    "\n",
    "# to make this notebook's output stable across runs\n",
    "np.random.seed(123)\n",
    "\n",
    "# To plot pretty figures\n",
    "%matplotlib inline\n",
    "import matplotlib\n",
    "import matplotlib.pyplot as plt\n",
    "plt.rcParams['axes.labelsize'] = 14\n",
    "plt.rcParams['xtick.labelsize'] = 12\n",
    "plt.rcParams['ytick.labelsize'] = 12\n"
   ]
  },
  {
   "cell_type": "markdown",
   "metadata": {},
   "source": [
    "### Classification - Based on Week 3"
   ]
  },
  {
   "cell_type": "markdown",
   "metadata": {},
   "source": [
    "Q1. Build a classification model for the default of credit card clients dataset. More info here:\n",
    "https://archive.ics.uci.edu/ml/datasets/default+of+credit+card+clients\n",
    "\n",
    "In week 3, you:\n",
    "- Explored the dataset\n",
    "- Built a full data pipeline\n",
    "- Pre-processed data, explored features\n",
    "\n",
    "Building on your work of week 3:\n",
    "- Split dataset into 3 sets:\n",
    "  - 70% -> Training and cross validation\n",
    "  - 15% -> Model Stacking\n",
    "  - 15% -> Testing\n",
    "  \n",
    "\n",
    "- Tune a decision tree classfier:\n",
    "  - select a score (http://scikit-learn.org/stable/modules/model_evaluation.html). Explain your choice \n",
    "  - tune one parameter a time. Generate a plot for the score vs parameter values. Analyze your results.\n",
    "    - criterion, max_depth, min_samples_split, min_samples_leaf, max_leaf_nodes=None    \n",
    "  - tune all parameters at the same time using a randomgrid(http://scikit-learn.org/stable/modules/generated/sklearn.model_selection.RandomizedSearchCV.html#sklearn.model_selection.RandomizedSearchCV). First, run with a coarse grid, then refine in the next iteration. Use the information from the previous step to select parameter values.\n",
    "  "
   ]
  },
  {
   "cell_type": "markdown",
   "metadata": {},
   "source": [
    "For this assignment, we choose the ROC-AUC as a score measure because:\n",
    "\n",
    " - AUC applies to binary classifiers\n",
    " - We want to choose hyperparameters with the highest AUC score so that we have a greater True Positives and a lower number of False Positives. Note: higher AUC score does not necessary lead to a higher accuracy score as can be seen in a case of a such hyperparameter as min_samples_split; therefore, we would need to sacrifice some AUC score for the accuracy score.\n",
    " "
   ]
  },
  {
   "cell_type": "code",
   "execution_count": 123,
   "metadata": {
    "collapsed": true
   },
   "outputs": [],
   "source": [
    "\"\"\"\n",
    "Data Set Information:\n",
    "\n",
    "This research aimed at the case of customers default payments in Taiwan and compares the predictive accuracy of \n",
    "probability of default among six data mining methods. From the perspective of risk management, the result of \n",
    "predictive accuracy of the estimated probability of default will be more valuable than the binary result of \n",
    "classification - credible or not credible clients. Because the real probability of default is unknown, this study \n",
    "presented the novel Sorting Smoothing Method to estimate the real probability of default. With the real \n",
    "probability of default as the response variable (Y), and the predictive probability of default as the independent \n",
    "variable (X), the simple linear regression result (Y = A + BX) shows that the forecasting model produced by \n",
    "artificial neural network has the highest coefficient of determination; its regression intercept (A) is close to \n",
    "zero, and regression coefficient (B) to one. Therefore, among the six data mining techniques, artificial neural \n",
    "network is the only one that can accurately estimate the real probability of default.\n",
    "\n",
    "\n",
    "Attribute Information:\n",
    "\n",
    "This research employed a binary variable, default payment (Yes = 1, No = 0), as the response variable. \n",
    "This study reviewed the literature and used the following 23 variables as explanatory variables: \n",
    "X1: Amount of the given credit (NT dollar): it includes both the individual consumer credit and his/her \n",
    "family (supplementary) credit. \n",
    "X2: Gender (1 = male; 2 = female). \n",
    "X3: Education (1 = graduate school; 2 = university; 3 = high school; 4 = others). \n",
    "X4: Marital status (1 = married; 2 = single; 3 = others). \n",
    "X5: Age (year). \n",
    "X6 - X11: History of past payment. We tracked the past monthly payment records (from April to September, 2005) as follows: X6 = the repayment status in September, 2005; X7 = the repayment status in August, 2005; . . .;X11 = the repayment status in April, 2005. The measurement scale for the repayment status is: -1 = pay duly; 1 = payment delay for one month; 2 = payment delay for two months; . . .; 8 = payment delay for eight months; 9 = payment delay for nine months and above. \n",
    "X12-X17: Amount of bill statement (NT dollar). X12 = amount of bill statement in September, 2005; X13 = amount of bill statement in August, 2005; . . .; X17 = amount of bill statement in April, 2005. \n",
    "X18-X23: Amount of previous payment (NT dollar). X18 = amount paid in September, 2005; X19 = amount paid in August, 2005; . . .;X23 = amount paid in April, 2005. \n",
    "\"\"\"\n",
    "\n",
    "import os\n",
    "from six.moves import urllib\n",
    "\n",
    "DOWNLOAD_ROOT = \"https://archive.ics.uci.edu/ml/machine-learning-databases/00350/\"\n",
    "CREDIT_PATH = os.path.join(\"datasets\", \"credit-default\")\n",
    "CREDIT_URL = DOWNLOAD_ROOT + \"default%20of%20credit%20card%20clients.xls\""
   ]
  },
  {
   "cell_type": "code",
   "execution_count": 124,
   "metadata": {},
   "outputs": [],
   "source": [
    "def fetch_creditdefault_data(credit_url=CREDIT_URL, credit_path=CREDIT_PATH):\n",
    "    if not os.path.isdir(credit_path):\n",
    "        os.makedirs(credit_path)\n",
    "    file_path = os.path.join(credit_path, \"default of credit card clients.xls\")\n",
    "    \n",
    "    urllib.request.urlretrieve(credit_url, file_path) \n",
    "    # The commented code above wont execute in proxy settings. Please download the files from Github\n",
    "    # https://github.com github.com/RoyMachineLearning/3253-Machine-Learning\n",
    "    \n",
    "fetch_creditdefault_data()"
   ]
  },
  {
   "cell_type": "code",
   "execution_count": 125,
   "metadata": {
    "collapsed": true
   },
   "outputs": [],
   "source": [
    "import pandas as pd\n",
    "\n",
    "def load_CRDEFAULT_data(credit_path=CREDIT_PATH):\n",
    "    file_path = os.path.join(credit_path, \"default of credit card clients.xls\")\n",
    "    return pd.read_excel(file_path, sheet = 0, skiprows= 1, header = 0)\n",
    "\n",
    "df = load_CRDEFAULT_data()\n",
    "df = df.drop('ID',axis=1)"
   ]
  },
  {
   "cell_type": "code",
   "execution_count": 126,
   "metadata": {
    "collapsed": true
   },
   "outputs": [],
   "source": [
    "#split the data into Training, Model Stacking and test\n",
    "\n",
    "from sklearn.model_selection import StratifiedShuffleSplit\n",
    "split = StratifiedShuffleSplit(n_splits = 1, test_size = 0.3, random_state = 123)\n",
    "for train_index, Not_Train_index in split.split(df, df[\"default payment next month\"]):\n",
    "    strat_train_set = df.loc[train_index]\n",
    "    Not_Train_set = df.loc[Not_Train_index]\n",
    "    \n",
    "# Second split\n",
    "new_split = StratifiedShuffleSplit(n_splits = 1, test_size = 0.5, random_state = 123)\n",
    "for stack_index, test_index in new_split.split(Not_Train_set, Not_Train_set[\"default payment next month\"]):\n",
    "    strat_stack_set = df.loc[stack_index]\n",
    "    strat_test_set = df.loc[test_index]"
   ]
  },
  {
   "cell_type": "code",
   "execution_count": 281,
   "metadata": {
    "collapsed": true
   },
   "outputs": [],
   "source": [
    "# The x variable for training set\n",
    "training_df_X = strat_train_set.drop(\"default payment next month\", axis=1)\n",
    "\n",
    "#the Y Variable\n",
    "training_df_Y = strat_train_set[\"default payment next month\"].copy()\n",
    "\n",
    "# The x variable for Model Stacking set\n",
    "ModelStacking_df_X = strat_stack_set.drop(\"default payment next month\", axis=1)\n",
    "\n",
    "#the Y Variable\n",
    "ModelStacking_df_Y = strat_stack_set[\"default payment next month\"].copy()\n",
    "\n",
    "# The x variable for test set\n",
    "test_df_X = strat_test_set.drop(\"default payment next month\", axis=1)\n",
    "\n",
    "#the Y Variable\n",
    "test_df_Y = strat_test_set[\"default payment next month\"].copy()"
   ]
  },
  {
   "cell_type": "code",
   "execution_count": 282,
   "metadata": {
    "collapsed": true
   },
   "outputs": [],
   "source": [
    "#define the Plots for Checking the roc_auc values vs Parameter\n",
    "\n",
    "def plot_Parameters_Vs_Scores(criterion_estimators,roc_auc_values,plotType):\n",
    "    if plotType == \"Scatter\":\n",
    "        plt.scatter(criterion_estimators, roc_auc_values)\n",
    "    if plotType == \"Line\":\n",
    "        plt.plot(criterion_estimators, roc_auc_values) \n",
    "    plt.xlabel(\"Parameters Vs AUC Scores\")\n",
    "    plt.legend(loc=\"best\")\n",
    "    plt.grid(True)"
   ]
  },
  {
   "cell_type": "code",
   "execution_count": 283,
   "metadata": {
    "collapsed": true
   },
   "outputs": [],
   "source": [
    "#Evaluate the Decision tree model on the training set\n",
    "from sklearn.model_selection import cross_val_predict\n",
    "from sklearn.metrics import roc_auc_score\n",
    "from sklearn.tree import DecisionTreeClassifier\n",
    "from sklearn.model_selection import GridSearchCV\n",
    "\n",
    "criterion_estimators_1 = ['gini', 'entropy']\n",
    "\n",
    "#Establish the first Parameter.\n",
    "roc_auc_values = []\n",
    "\n",
    "for item in criterion_estimators_1:\n",
    "    Dtree_clf = DecisionTreeClassifier(criterion=item, random_state=42)\n",
    "    Dtree_clf.fit(training_df_X, training_df_Y)\n",
    "\n",
    "    y_probas_trees = cross_val_predict(Dtree_clf,training_df_X,training_df_Y, cv=4, method=\"predict_proba\")\n",
    "    y_tree_scores = y_probas_trees[:, 1] # score = proba of positive class\n",
    "    roc_auc_trees = roc_auc_score(training_df_Y,y_tree_scores)\n",
    "    roc_auc_values.append(roc_auc_trees)"
   ]
  },
  {
   "cell_type": "code",
   "execution_count": 284,
   "metadata": {},
   "outputs": [
    {
     "data": {
      "image/png": "[encoded data removed]",
      "text/plain": [
       "<matplotlib.figure.Figure at 0x1bfe62e3f60>"
      ]
     },
     "metadata": {},
     "output_type": "display_data"
    }
   ],
   "source": [
    "plot_Parameters_Vs_Scores(criterion_estimators_1, roc_auc_values,\"Scatter\")\n",
    "plt.show()"
   ]
  },
  {
   "cell_type": "code",
   "execution_count": 285,
   "metadata": {},
   "outputs": [
    {
     "name": "stdout",
     "output_type": "stream",
     "text": [
      "{'criterion': 'entropy'}\n",
      "DecisionTreeClassifier(class_weight=None, criterion='entropy', max_depth=None,\n",
      "            max_features=None, max_leaf_nodes=None,\n",
      "            min_impurity_decrease=0.0, min_impurity_split=None,\n",
      "            min_samples_leaf=1, min_samples_split=2,\n",
      "            min_weight_fraction_leaf=0.0, presort=False, random_state=42,\n",
      "            splitter='best')\n"
     ]
    }
   ],
   "source": [
    "param_grid_forest_1 = {'criterion' : criterion_estimators_1}\n",
    "grid_search_1 = GridSearchCV(Dtree_clf, param_grid_forest_1, cv = 4, scoring='roc_auc', refit = True)\n",
    "grid_search_1.fit(training_df_X, training_df_Y)\n",
    "\n",
    "best_params_1 = grid_search_1.best_params_\n",
    "best_estimators_1 = grid_search_1.best_estimator_\n",
    "\n",
    "print(best_params_1)\n",
    "print(best_estimators_1)"
   ]
  },
  {
   "cell_type": "code",
   "execution_count": 286,
   "metadata": {},
   "outputs": [
    {
     "name": "stdout",
     "output_type": "stream",
     "text": [
      "0.999476190476\n"
     ]
    }
   ],
   "source": [
    "#Print the accuracy score\n",
    "print(best_estimators_1.score(training_df_X,training_df_Y))"
   ]
  },
  {
   "cell_type": "code",
   "execution_count": 287,
   "metadata": {},
   "outputs": [
    {
     "name": "stdout",
     "output_type": "stream",
     "text": [
      "0.918888888889\n"
     ]
    }
   ],
   "source": [
    "#Check the Accuracy on Test data \n",
    "from sklearn.metrics import accuracy_score\n",
    "\n",
    "y_test_estimations_1 = best_estimators_1.predict(test_df_X)\n",
    "print(accuracy_score(test_df_Y, y_test_estimations_1))"
   ]
  },
  {
   "cell_type": "markdown",
   "metadata": {},
   "source": [
    "As the accuracy drops on the test set - this criterion parameter may not be sufficient enough be a good model."
   ]
  },
  {
   "cell_type": "code",
   "execution_count": 288,
   "metadata": {
    "collapsed": true
   },
   "outputs": [],
   "source": [
    "# Criterion Parameter - Max Depth\n",
    "\n",
    "criterion_estimators_2 = [1, 2, 3, 4, 5]\n",
    "\n",
    "roc_auc_values = []\n",
    "\n",
    "for item in criterion_estimators_2:\n",
    "    Dtree_clf = DecisionTreeClassifier(max_depth=item, random_state=42)\n",
    "    Dtree_clf.fit(training_df_X, training_df_Y)\n",
    "\n",
    "    y_probas_trees = cross_val_predict(Dtree_clf,training_df_X,training_df_Y, cv=4, method=\"predict_proba\")\n",
    "    y_tree_scores = y_probas_trees[:, 1] # score = proba of positive class\n",
    "    roc_auc_trees = roc_auc_score(training_df_Y,y_tree_scores)\n",
    "    roc_auc_values.append(roc_auc_trees)"
   ]
  },
  {
   "cell_type": "code",
   "execution_count": 289,
   "metadata": {},
   "outputs": [
    {
     "data": {
      "image/png": "[encoded data removed]",
      "text/plain": [
       "<matplotlib.figure.Figure at 0x1bfe633a940>"
      ]
     },
     "metadata": {},
     "output_type": "display_data"
    }
   ],
   "source": [
    "plot_Parameters_Vs_Scores(criterion_estimators_2, roc_auc_values,\"Line\")\n",
    "plt.show()"
   ]
  },
  {
   "cell_type": "code",
   "execution_count": 290,
   "metadata": {},
   "outputs": [
    {
     "name": "stdout",
     "output_type": "stream",
     "text": [
      "{'max_depth': 5}\n",
      "DecisionTreeClassifier(class_weight=None, criterion='gini', max_depth=5,\n",
      "            max_features=None, max_leaf_nodes=None,\n",
      "            min_impurity_decrease=0.0, min_impurity_split=None,\n",
      "            min_samples_leaf=1, min_samples_split=2,\n",
      "            min_weight_fraction_leaf=0.0, presort=False, random_state=42,\n",
      "            splitter='best')\n"
     ]
    }
   ],
   "source": [
    "param_grid_forest_2 = {'max_depth' : criterion_estimators_2}\n",
    "grid_search_2 = GridSearchCV(Dtree_clf, param_grid_forest_2, cv = 4, scoring='roc_auc', refit = True)\n",
    "grid_search_2.fit(training_df_X, training_df_Y)\n",
    "\n",
    "best_params_2 = grid_search_2.best_params_\n",
    "best_estimators_2 = grid_search_2.best_estimator_\n",
    "\n",
    "print(best_params_2)\n",
    "print(best_estimators_2)"
   ]
  },
  {
   "cell_type": "code",
   "execution_count": 291,
   "metadata": {},
   "outputs": [
    {
     "name": "stdout",
     "output_type": "stream",
     "text": [
      "0.823285714286\n"
     ]
    }
   ],
   "source": [
    "#Print the accuracy score\n",
    "print(best_estimators_2.score(training_df_X,training_df_Y))"
   ]
  },
  {
   "cell_type": "code",
   "execution_count": 292,
   "metadata": {},
   "outputs": [
    {
     "name": "stdout",
     "output_type": "stream",
     "text": [
      "0.807333333333\n"
     ]
    }
   ],
   "source": [
    "#Check the Accuracy on Test data \n",
    "from sklearn.metrics import accuracy_score\n",
    "\n",
    "y_test_estimations_2 = best_estimators_2.predict(test_df_X)\n",
    "print(accuracy_score(test_df_Y, y_test_estimations_2))"
   ]
  },
  {
   "cell_type": "markdown",
   "metadata": {},
   "source": [
    "As the accuracy drops on the test set - this criterion parameter may not be sufficient enough be a good model."
   ]
  },
  {
   "cell_type": "code",
   "execution_count": 293,
   "metadata": {
    "collapsed": true
   },
   "outputs": [],
   "source": [
    "#Criterion = Min Samples Split.\n",
    "criterion_estimators_3 = list(range(2,10))\n",
    "\n",
    "roc_auc_values = []\n",
    "\n",
    "for item in criterion_estimators_3:\n",
    "    Dtree_clf = DecisionTreeClassifier(min_samples_split=item, random_state=42)\n",
    "    Dtree_clf.fit(training_df_X, training_df_Y)\n",
    "\n",
    "    y_probas_trees = cross_val_predict(Dtree_clf,training_df_X,training_df_Y, cv=4, method=\"predict_proba\")\n",
    "    y_tree_scores = y_probas_trees[:, 1] # score = proba of positive class\n",
    "    roc_auc_trees = roc_auc_score(training_df_Y,y_tree_scores)\n",
    "    roc_auc_values.append(roc_auc_trees)"
   ]
  },
  {
   "cell_type": "code",
   "execution_count": 294,
   "metadata": {},
   "outputs": [
    {
     "data": {
      "image/png": "[encoded data removed]",
      "text/plain": [
       "<matplotlib.figure.Figure at 0x1bfe633a668>"
      ]
     },
     "metadata": {},
     "output_type": "display_data"
    }
   ],
   "source": [
    "plot_Parameters_Vs_Scores(criterion_estimators_3, roc_auc_values,\"Line\")\n",
    "plt.show()"
   ]
  },
  {
   "cell_type": "code",
   "execution_count": 295,
   "metadata": {},
   "outputs": [
    {
     "name": "stdout",
     "output_type": "stream",
     "text": [
      "{'min_samples_split': 9}\n",
      "DecisionTreeClassifier(class_weight=None, criterion='gini', max_depth=None,\n",
      "            max_features=None, max_leaf_nodes=None,\n",
      "            min_impurity_decrease=0.0, min_impurity_split=None,\n",
      "            min_samples_leaf=1, min_samples_split=9,\n",
      "            min_weight_fraction_leaf=0.0, presort=False, random_state=42,\n",
      "            splitter='best')\n"
     ]
    }
   ],
   "source": [
    "#Set the min_samples_split to None as this parameter keeps increasing at a decreasing rate.But a higher score\n",
    "# is generated with 20 as min sample split\n",
    "param_grid_forest_3 = {'min_samples_split' : criterion_estimators_3}\n",
    "grid_search_3 = GridSearchCV(Dtree_clf, param_grid_forest_3, cv = 4, scoring='roc_auc', refit = True)\n",
    "grid_search_3.fit(training_df_X, training_df_Y)\n",
    "\n",
    "best_params_3 = grid_search_3.best_params_\n",
    "best_estimators_3 = grid_search_3.best_estimator_\n",
    "\n",
    "print(best_params_3)\n",
    "print(best_estimators_3)"
   ]
  },
  {
   "cell_type": "code",
   "execution_count": 296,
   "metadata": {},
   "outputs": [
    {
     "name": "stdout",
     "output_type": "stream",
     "text": [
      "0.941095238095\n"
     ]
    }
   ],
   "source": [
    "#Print the accuracy score\n",
    "print(best_estimators_3.score(training_df_X,training_df_Y))"
   ]
  },
  {
   "cell_type": "code",
   "execution_count": 297,
   "metadata": {},
   "outputs": [
    {
     "name": "stdout",
     "output_type": "stream",
     "text": [
      "0.879111111111\n"
     ]
    }
   ],
   "source": [
    "#Check the Accuracy on Test data \n",
    "from sklearn.metrics import accuracy_score\n",
    "\n",
    "y_test_estimations_3 = best_estimators_3.predict(test_df_X)\n",
    "print(accuracy_score(test_df_Y, y_test_estimations_3))"
   ]
  },
  {
   "cell_type": "markdown",
   "metadata": {},
   "source": [
    "As the accuracy drops on the test set - this criterion parameter may not be sufficient enough be a good model."
   ]
  },
  {
   "cell_type": "code",
   "execution_count": 298,
   "metadata": {
    "collapsed": true
   },
   "outputs": [],
   "source": [
    "#Criteria : min_samples_leaf\n",
    "criterion_estimators_4 = [(i + 1) / 10 for i in range(5)]\n",
    "\n",
    "roc_auc_values = []\n",
    "\n",
    "for item in criterion_estimators_4:\n",
    "    Dtree_clf = DecisionTreeClassifier(min_samples_leaf=item, random_state=42)\n",
    "    Dtree_clf.fit(training_df_X, training_df_Y)\n",
    "\n",
    "    y_probas_trees = cross_val_predict(Dtree_clf,training_df_X,training_df_Y, cv=4, method=\"predict_proba\")\n",
    "    y_tree_scores = y_probas_trees[:, 1] # score = proba of positive class\n",
    "    roc_auc_trees = roc_auc_score(training_df_Y,y_tree_scores)\n",
    "    roc_auc_values.append(roc_auc_trees)"
   ]
  },
  {
   "cell_type": "code",
   "execution_count": 299,
   "metadata": {},
   "outputs": [
    {
     "data": {
      "image/png": "[encoded data removed]",
      "text/plain": [
       "<matplotlib.figure.Figure at 0x1bfe5aa6d30>"
      ]
     },
     "metadata": {},
     "output_type": "display_data"
    }
   ],
   "source": [
    "plot_Parameters_Vs_Scores(criterion_estimators_4, roc_auc_values,\"Line\")\n",
    "plt.show()"
   ]
  },
  {
   "cell_type": "code",
   "execution_count": 300,
   "metadata": {},
   "outputs": [
    {
     "name": "stdout",
     "output_type": "stream",
     "text": [
      "{'min_samples_leaf': 0.1}\n",
      "DecisionTreeClassifier(class_weight=None, criterion='gini', max_depth=None,\n",
      "            max_features=None, max_leaf_nodes=None,\n",
      "            min_impurity_decrease=0.0, min_impurity_split=None,\n",
      "            min_samples_leaf=0.1, min_samples_split=2,\n",
      "            min_weight_fraction_leaf=0.0, presort=False, random_state=42,\n",
      "            splitter='best')\n"
     ]
    }
   ],
   "source": [
    "param_grid_forest_4 = {'min_samples_leaf' : criterion_estimators_4}\n",
    "grid_search_4 = GridSearchCV(Dtree_clf, param_grid_forest_4, cv = 4, scoring='roc_auc', refit = True)\n",
    "grid_search_4.fit(training_df_X, training_df_Y)\n",
    "\n",
    "best_params_4 = grid_search_4.best_params_\n",
    "best_estimators_4 = grid_search_4.best_estimator_\n",
    "\n",
    "print(best_params_4)\n",
    "print(best_estimators_4)"
   ]
  },
  {
   "cell_type": "code",
   "execution_count": 301,
   "metadata": {},
   "outputs": [
    {
     "name": "stdout",
     "output_type": "stream",
     "text": [
      "0.818\n"
     ]
    }
   ],
   "source": [
    "#Print the accuracy score\n",
    "print(best_estimators_4.score(training_df_X,training_df_Y))"
   ]
  },
  {
   "cell_type": "code",
   "execution_count": 302,
   "metadata": {},
   "outputs": [
    {
     "name": "stdout",
     "output_type": "stream",
     "text": [
      "0.804444444444\n"
     ]
    }
   ],
   "source": [
    "#Check the Accuracy on Test data \n",
    "from sklearn.metrics import accuracy_score\n",
    "\n",
    "y_test_estimations_4 = best_estimators_4.predict(test_df_X)\n",
    "print(accuracy_score(test_df_Y, y_test_estimations_4))"
   ]
  },
  {
   "cell_type": "markdown",
   "metadata": {},
   "source": [
    "Compared to the models we have build so far, The Hyper parameter \"min_samples_leaf\" generates a good accuracy over the test set\n",
    "when compared to the training set."
   ]
  },
  {
   "cell_type": "code",
   "execution_count": 303,
   "metadata": {
    "collapsed": true
   },
   "outputs": [],
   "source": [
    "#Criterion = max_leaf_nodes\n",
    "criterion_estimators_5 = list(range(2, 35))\n",
    "\n",
    "roc_auc_values = []\n",
    "\n",
    "for item in criterion_estimators_5:\n",
    "    Dtree_clf = DecisionTreeClassifier(max_leaf_nodes=item, random_state=42)\n",
    "    Dtree_clf.fit(training_df_X, training_df_Y)\n",
    "\n",
    "    y_probas_trees = cross_val_predict(Dtree_clf,training_df_X,training_df_Y, cv=4, method=\"predict_proba\")\n",
    "    y_tree_scores = y_probas_trees[:, 1] # score = proba of positive class\n",
    "    roc_auc_trees = roc_auc_score(training_df_Y,y_tree_scores)\n",
    "    roc_auc_values.append(roc_auc_trees)"
   ]
  },
  {
   "cell_type": "code",
   "execution_count": 304,
   "metadata": {},
   "outputs": [
    {
     "data": {
      "image/png": "[encoded data removed]",
      "text/plain": [
       "<matplotlib.figure.Figure at 0x1bfe5ab5da0>"
      ]
     },
     "metadata": {},
     "output_type": "display_data"
    }
   ],
   "source": [
    "plot_Parameters_Vs_Scores(criterion_estimators_5, roc_auc_values,\"Line\")\n",
    "plt.show()"
   ]
  },
  {
   "cell_type": "code",
   "execution_count": 305,
   "metadata": {
    "scrolled": true
   },
   "outputs": [
    {
     "name": "stdout",
     "output_type": "stream",
     "text": [
      "{'max_leaf_nodes': 33}\n",
      "DecisionTreeClassifier(class_weight=None, criterion='gini', max_depth=None,\n",
      "            max_features=None, max_leaf_nodes=33,\n",
      "            min_impurity_decrease=0.0, min_impurity_split=None,\n",
      "            min_samples_leaf=1, min_samples_split=2,\n",
      "            min_weight_fraction_leaf=0.0, presort=False, random_state=42,\n",
      "            splitter='best')\n"
     ]
    }
   ],
   "source": [
    "param_grid_forest_5 = {'max_leaf_nodes' : criterion_estimators_5}\n",
    "grid_search_5 = GridSearchCV(Dtree_clf, param_grid_forest_5, cv = 4, scoring='roc_auc', refit = True)\n",
    "grid_search_5.fit(training_df_X, training_df_Y)\n",
    "\n",
    "best_params_5 = grid_search_5.best_params_\n",
    "best_estimators_5 = grid_search_5.best_estimator_\n",
    "\n",
    "print(best_params_5)\n",
    "print(best_estimators_5)"
   ]
  },
  {
   "cell_type": "code",
   "execution_count": 306,
   "metadata": {},
   "outputs": [
    {
     "name": "stdout",
     "output_type": "stream",
     "text": [
      "0.822857142857\n"
     ]
    }
   ],
   "source": [
    "#Print the accuracy score\n",
    "print(best_estimators_5.score(training_df_X,training_df_Y))"
   ]
  },
  {
   "cell_type": "code",
   "execution_count": 307,
   "metadata": {},
   "outputs": [
    {
     "name": "stdout",
     "output_type": "stream",
     "text": [
      "0.805555555556\n"
     ]
    }
   ],
   "source": [
    "#Check the Accuracy on Test data \n",
    "from sklearn.metrics import accuracy_score\n",
    "y_test_estimations_5 = best_estimators_5.predict(test_df_X)\n",
    "print(accuracy_score(test_df_Y, y_test_estimations_5))"
   ]
  },
  {
   "cell_type": "markdown",
   "metadata": {},
   "source": [
    "As the accuracy drops on the test set - this criterion parameter may not be sufficient enough be a good model."
   ]
  },
  {
   "cell_type": "markdown",
   "metadata": {},
   "source": [
    "tune all parameters at the same time using a randomgrid(http://scikit-learn.org/stable/modules/generated/sklearn.model_selection.RandomizedSearchCV.html#sklearn.model_selection.RandomizedSearchCV). First, run with a coarse grid, then refine in the next iteration. Use the information from the previous step to select parameter values."
   ]
  },
  {
   "cell_type": "code",
   "execution_count": 308,
   "metadata": {
    "collapsed": true
   },
   "outputs": [],
   "source": [
    "from sklearn.model_selection import RandomizedSearchCV\n",
    "from scipy.stats import reciprocal, uniform"
   ]
  },
  {
   "cell_type": "code",
   "execution_count": 29,
   "metadata": {},
   "outputs": [
    {
     "name": "stdout",
     "output_type": "stream",
     "text": [
      "Fitting 3 folds for each of 10 candidates, totalling 30 fits\n",
      "[CV] min_samples_split=8, min_samples_leaf=0.3, max_leaf_nodes=25, max_depth=3, criterion=gini \n",
      "[CV]  min_samples_split=8, min_samples_leaf=0.3, max_leaf_nodes=25, max_depth=3, criterion=gini, total=   0.0s\n",
      "[CV] min_samples_split=8, min_samples_leaf=0.3, max_leaf_nodes=25, max_depth=3, criterion=gini \n",
      "[CV]  min_samples_split=8, min_samples_leaf=0.3, max_leaf_nodes=25, max_depth=3, criterion=gini, total=   0.0s\n",
      "[CV] min_samples_split=8, min_samples_leaf=0.3, max_leaf_nodes=25, max_depth=3, criterion=gini \n",
      "[CV]  min_samples_split=8, min_samples_leaf=0.3, max_leaf_nodes=25, max_depth=3, criterion=gini, total=   0.0s\n",
      "[CV] min_samples_split=8, min_samples_leaf=0.1, max_leaf_nodes=29, max_depth=4, criterion=entropy \n"
     ]
    },
    {
     "name": "stderr",
     "output_type": "stream",
     "text": [
      "[Parallel(n_jobs=1)]: Done   1 out of   1 | elapsed:    0.0s remaining:    0.0s\n"
     ]
    },
    {
     "name": "stdout",
     "output_type": "stream",
     "text": [
      "[CV]  min_samples_split=8, min_samples_leaf=0.1, max_leaf_nodes=29, max_depth=4, criterion=entropy, total=   0.0s\n",
      "[CV] min_samples_split=8, min_samples_leaf=0.1, max_leaf_nodes=29, max_depth=4, criterion=entropy \n",
      "[CV]  min_samples_split=8, min_samples_leaf=0.1, max_leaf_nodes=29, max_depth=4, criterion=entropy, total=   0.0s\n",
      "[CV] min_samples_split=8, min_samples_leaf=0.1, max_leaf_nodes=29, max_depth=4, criterion=entropy \n",
      "[CV]  min_samples_split=8, min_samples_leaf=0.1, max_leaf_nodes=29, max_depth=4, criterion=entropy, total=   0.0s\n",
      "[CV] min_samples_split=4, min_samples_leaf=0.4, max_leaf_nodes=2, max_depth=2, criterion=gini \n",
      "[CV]  min_samples_split=4, min_samples_leaf=0.4, max_leaf_nodes=2, max_depth=2, criterion=gini, total=   0.0s\n",
      "[CV] min_samples_split=4, min_samples_leaf=0.4, max_leaf_nodes=2, max_depth=2, criterion=gini \n",
      "[CV]  min_samples_split=4, min_samples_leaf=0.4, max_leaf_nodes=2, max_depth=2, criterion=gini, total=   0.0s\n",
      "[CV] min_samples_split=4, min_samples_leaf=0.4, max_leaf_nodes=2, max_depth=2, criterion=gini \n",
      "[CV]  min_samples_split=4, min_samples_leaf=0.4, max_leaf_nodes=2, max_depth=2, criterion=gini, total=   0.0s\n",
      "[CV] min_samples_split=6, min_samples_leaf=0.2, max_leaf_nodes=11, max_depth=5, criterion=entropy \n",
      "[CV]  min_samples_split=6, min_samples_leaf=0.2, max_leaf_nodes=11, max_depth=5, criterion=entropy, total=   0.0s\n",
      "[CV] min_samples_split=6, min_samples_leaf=0.2, max_leaf_nodes=11, max_depth=5, criterion=entropy \n",
      "[CV]  min_samples_split=6, min_samples_leaf=0.2, max_leaf_nodes=11, max_depth=5, criterion=entropy, total=   0.0s\n",
      "[CV] min_samples_split=6, min_samples_leaf=0.2, max_leaf_nodes=11, max_depth=5, criterion=entropy \n",
      "[CV]  min_samples_split=6, min_samples_leaf=0.2, max_leaf_nodes=11, max_depth=5, criterion=entropy, total=   0.0s\n",
      "[CV] min_samples_split=4, min_samples_leaf=0.3, max_leaf_nodes=33, max_depth=4, criterion=gini \n",
      "[CV]  min_samples_split=4, min_samples_leaf=0.3, max_leaf_nodes=33, max_depth=4, criterion=gini, total=   0.0s\n",
      "[CV] min_samples_split=4, min_samples_leaf=0.3, max_leaf_nodes=33, max_depth=4, criterion=gini \n",
      "[CV]  min_samples_split=4, min_samples_leaf=0.3, max_leaf_nodes=33, max_depth=4, criterion=gini, total=   0.0s\n",
      "[CV] min_samples_split=4, min_samples_leaf=0.3, max_leaf_nodes=33, max_depth=4, criterion=gini \n",
      "[CV]  min_samples_split=4, min_samples_leaf=0.3, max_leaf_nodes=33, max_depth=4, criterion=gini, total=   0.0s\n",
      "[CV] min_samples_split=5, min_samples_leaf=0.1, max_leaf_nodes=31, max_depth=1, criterion=entropy \n",
      "[CV]  min_samples_split=5, min_samples_leaf=0.1, max_leaf_nodes=31, max_depth=1, criterion=entropy, total=   0.0s\n",
      "[CV] min_samples_split=5, min_samples_leaf=0.1, max_leaf_nodes=31, max_depth=1, criterion=entropy \n",
      "[CV]  min_samples_split=5, min_samples_leaf=0.1, max_leaf_nodes=31, max_depth=1, criterion=entropy, total=   0.0s\n",
      "[CV] min_samples_split=5, min_samples_leaf=0.1, max_leaf_nodes=31, max_depth=1, criterion=entropy \n",
      "[CV]  min_samples_split=5, min_samples_leaf=0.1, max_leaf_nodes=31, max_depth=1, criterion=entropy, total=   0.0s\n",
      "[CV] min_samples_split=3, min_samples_leaf=0.4, max_leaf_nodes=15, max_depth=3, criterion=entropy \n",
      "[CV]  min_samples_split=3, min_samples_leaf=0.4, max_leaf_nodes=15, max_depth=3, criterion=entropy, total=   0.0s\n",
      "[CV] min_samples_split=3, min_samples_leaf=0.4, max_leaf_nodes=15, max_depth=3, criterion=entropy \n",
      "[CV]  min_samples_split=3, min_samples_leaf=0.4, max_leaf_nodes=15, max_depth=3, criterion=entropy, total=   0.0s\n",
      "[CV] min_samples_split=3, min_samples_leaf=0.4, max_leaf_nodes=15, max_depth=3, criterion=entropy \n",
      "[CV]  min_samples_split=3, min_samples_leaf=0.4, max_leaf_nodes=15, max_depth=3, criterion=entropy, total=   0.0s\n",
      "[CV] min_samples_split=8, min_samples_leaf=0.3, max_leaf_nodes=21, max_depth=1, criterion=entropy \n",
      "[CV]  min_samples_split=8, min_samples_leaf=0.3, max_leaf_nodes=21, max_depth=1, criterion=entropy, total=   0.0s\n",
      "[CV] min_samples_split=8, min_samples_leaf=0.3, max_leaf_nodes=21, max_depth=1, criterion=entropy \n",
      "[CV]  min_samples_split=8, min_samples_leaf=0.3, max_leaf_nodes=21, max_depth=1, criterion=entropy, total=   0.0s\n",
      "[CV] min_samples_split=8, min_samples_leaf=0.3, max_leaf_nodes=21, max_depth=1, criterion=entropy \n",
      "[CV]  min_samples_split=8, min_samples_leaf=0.3, max_leaf_nodes=21, max_depth=1, criterion=entropy, total=   0.0s\n",
      "[CV] min_samples_split=3, min_samples_leaf=0.3, max_leaf_nodes=16, max_depth=5, criterion=gini \n",
      "[CV]  min_samples_split=3, min_samples_leaf=0.3, max_leaf_nodes=16, max_depth=5, criterion=gini, total=   0.0s\n",
      "[CV] min_samples_split=3, min_samples_leaf=0.3, max_leaf_nodes=16, max_depth=5, criterion=gini \n",
      "[CV]  min_samples_split=3, min_samples_leaf=0.3, max_leaf_nodes=16, max_depth=5, criterion=gini, total=   0.0s\n",
      "[CV] min_samples_split=3, min_samples_leaf=0.3, max_leaf_nodes=16, max_depth=5, criterion=gini \n",
      "[CV]  min_samples_split=3, min_samples_leaf=0.3, max_leaf_nodes=16, max_depth=5, criterion=gini, total=   0.0s\n",
      "[CV] min_samples_split=2, min_samples_leaf=0.3, max_leaf_nodes=4, max_depth=1, criterion=gini \n",
      "[CV]  min_samples_split=2, min_samples_leaf=0.3, max_leaf_nodes=4, max_depth=1, criterion=gini, total=   0.0s\n",
      "[CV] min_samples_split=2, min_samples_leaf=0.3, max_leaf_nodes=4, max_depth=1, criterion=gini \n",
      "[CV]  min_samples_split=2, min_samples_leaf=0.3, max_leaf_nodes=4, max_depth=1, criterion=gini, total=   0.0s\n",
      "[CV] min_samples_split=2, min_samples_leaf=0.3, max_leaf_nodes=4, max_depth=1, criterion=gini \n",
      "[CV]  min_samples_split=2, min_samples_leaf=0.3, max_leaf_nodes=4, max_depth=1, criterion=gini, total=   0.0s\n"
     ]
    },
    {
     "name": "stderr",
     "output_type": "stream",
     "text": [
      "[Parallel(n_jobs=1)]: Done  30 out of  30 | elapsed:    1.5s finished\n"
     ]
    },
    {
     "data": {
      "text/plain": [
       "RandomizedSearchCV(cv=None, error_score='raise',\n",
       "          estimator=DecisionTreeClassifier(class_weight=None, criterion='gini', max_depth=None,\n",
       "            max_features=None, max_leaf_nodes=34,\n",
       "            min_impurity_decrease=0.0, min_impurity_split=None,\n",
       "            min_samples_leaf=1, min_samples_split=2,\n",
       "            min_weight_fraction_leaf=0.0, presort=False, random_state=42,\n",
       "            splitter='best'),\n",
       "          fit_params=None, iid=True, n_iter=10, n_jobs=1,\n",
       "          param_distributions={'criterion': ['gini', 'entropy'], 'max_depth': [1, 2, 3, 4, 5], 'min_samples_split': [2, 3, 4, 5, 6, 7, 8, 9], 'min_samples_leaf': [0.1, 0.2, 0.3, 0.4, 0.5], 'max_leaf_nodes': [2, 3, 4, 5, 6, 7, 8, 9, 10, 11, 12, 13, 14, 15, 16, 17, 18, 19, 20, 21, 22, 23, 24, 25, 26, 27, 28, 29, 30, 31, 32, 33, 34]},\n",
       "          pre_dispatch='2*n_jobs', random_state=None, refit=True,\n",
       "          return_train_score='warn', scoring=None, verbose=2)"
      ]
     },
     "execution_count": 29,
     "metadata": {},
     "output_type": "execute_result"
    }
   ],
   "source": [
    "#tuning all the parameters together \n",
    "parameter_distribution = {'criterion' : criterion_estimators_1, 'max_depth' : criterion_estimators_2,\n",
    "                          'min_samples_split' : criterion_estimators_3, 'min_samples_leaf' : criterion_estimators_4,\n",
    "                          'max_leaf_nodes' : criterion_estimators_5}\n",
    "\n",
    "rnd_search_cv = RandomizedSearchCV(Dtree_clf, parameter_distribution, n_iter=10, verbose=2)\n",
    "rnd_search_cv.fit(training_df_X, training_df_Y)"
   ]
  },
  {
   "cell_type": "code",
   "execution_count": 30,
   "metadata": {},
   "outputs": [
    {
     "data": {
      "text/plain": [
       "0.81799999999999995"
      ]
     },
     "execution_count": 30,
     "metadata": {},
     "output_type": "execute_result"
    }
   ],
   "source": [
    "#Get the best estimator on Randomized SearchCV\n",
    "rnd_search_cv.best_estimator_\n",
    "rnd_search_cv.score(training_df_X,training_df_Y)"
   ]
  },
  {
   "cell_type": "code",
   "execution_count": 180,
   "metadata": {},
   "outputs": [
    {
     "name": "stdout",
     "output_type": "stream",
     "text": [
      "0.804444444444\n"
     ]
    }
   ],
   "source": [
    "# Based on the accuracy scores, we select the best estimator and work with the test set\n",
    "from sklearn.metrics import accuracy_score\n",
    "\n",
    "final_model = rnd_search_cv.best_estimator_ #best estimator with accuracy over 99%\n",
    "\n",
    "y_test_estimations = final_model.predict(test_df_X)\n",
    "\n",
    "print(accuracy_score(test_df_Y, y_test_estimations))"
   ]
  },
  {
   "cell_type": "markdown",
   "metadata": {},
   "source": [
    "#### Conclusions?"
   ]
  },
  {
   "cell_type": "markdown",
   "metadata": {},
   "source": [
    "For Q1. Decision Tree performs the best under the hyperparameter , {'criterion': 'entropy'} on the training set. But when we compare the model accuracy on the test set. The Accuracy drops considerably - indicating an instance of clear overfitting on the\n",
    "training set. Thus a higher accuracy is not the only measure. \n",
    "\n",
    "Whereas The Hyper parameter \"min_samples_leaf\" generates a good accuracy over the test set when compared to the training set.\n",
    "Although the accuracy number is low, but this is a more useful model when compared to other models. \n",
    "\n",
    "When we run all the Hyper parameters using randomized search, The model is slightly overfitted. But it is a recommended approach to use with the right number of parameters."
   ]
  },
  {
   "cell_type": "markdown",
   "metadata": {},
   "source": [
    "### Ensemble Learning\n",
    "\n",
    "Make sure to read and understand the documentation for each classifier.\n",
    "\n",
    "Remember to make your code modular; it will save you rewriting the same things multiple times and will help avoid copy paste errors.\n",
    "\n",
    "\n",
    "  \n",
    "- Tune the following classifiers:\n",
    "  - Random forest classfier\n",
    "  - Adaboost Tree classifier\n",
    "  - Extra trees classifier\n",
    "  - Gradient Boosted Tree classifier\n",
    "  - Logistic Regression\n",
    "  \n",
    "- Analyze, compare, and interpret your results\n",
    "- What ensemble yields the best result? Can you identify certain types of events that are classified better/worse from the type of algorithm?\n",
    "- Is the feature importance consistent for all classifiers?"
   ]
  },
  {
   "cell_type": "code",
   "execution_count": 309,
   "metadata": {},
   "outputs": [
    {
     "name": "stderr",
     "output_type": "stream",
     "text": [
      "C:\\Users\\Owner\\Anaconda3.5\\lib\\site-packages\\sklearn\\utils\\validation.py:475: DataConversionWarning: Data with input dtype int64 was converted to float64 by StandardScaler.\n",
      "  warnings.warn(msg, DataConversionWarning)\n",
      "C:\\Users\\Owner\\Anaconda3.5\\lib\\site-packages\\sklearn\\utils\\validation.py:475: DataConversionWarning: Data with input dtype int64 was converted to float64 by StandardScaler.\n",
      "  warnings.warn(msg, DataConversionWarning)\n"
     ]
    }
   ],
   "source": [
    "#Preprocessing the data and create pipeline\n",
    "\n",
    "#create the list to be transformed - Credit DF\n",
    "training_df_NonTransform = training_df[['SEX', 'EDUCATION', 'MARRIAGE', 'PAY_0', 'PAY_2', 'PAY_3', 'PAY_4', 'PAY_5', 'PAY_6']]\n",
    "training_df_Transform = training_df[['LIMIT_BAL', 'AGE', 'BILL_AMT1', 'BILL_AMT2','BILL_AMT3', 'BILL_AMT4', 'BILL_AMT5', 'BILL_AMT6', 'PAY_AMT1',\n",
    "       'PAY_AMT2', 'PAY_AMT3', 'PAY_AMT4', 'PAY_AMT5', 'PAY_AMT6' ]]\n",
    "\n",
    "#retrieve the column names dropped\n",
    "#training_df_columns_labels =  training_df_Transform.columns.values.tolist()\n",
    "\n",
    "#Create numerical pipeline to transform numerical values\n",
    "\n",
    "from sklearn.pipeline import Pipeline\n",
    "from sklearn.preprocessing import StandardScaler\n",
    "\n",
    "#Convert the non transformed Dataframe into list.\n",
    "training_df_NonTransform_list = list(training_df_NonTransform)\n",
    "training_df_Transform_list = list(training_df_Transform)\n",
    "\n",
    "from sklearn.base import BaseEstimator, TransformerMixin\n",
    "\n",
    "# Create a class to select numerical or categorical columns \n",
    "# since Scikit-Learn doesn't handle DataFrames yet\n",
    "class DataFrameSelector(BaseEstimator, TransformerMixin):\n",
    "    def __init__(self, attribute_names):\n",
    "        self.attribute_names = attribute_names\n",
    "    def fit(self, X, y=None):\n",
    "        return self\n",
    "    def transform(self, X):\n",
    "        return X[self.attribute_names].values\n",
    "\n",
    "num_pipeline = Pipeline([\n",
    "        ('selector', DataFrameSelector(training_df_Transform_list)),\n",
    "        ('std_scaler', StandardScaler()),\n",
    "    ])\n",
    "\n",
    "cat_pipeline = Pipeline([\n",
    "        ('selector', DataFrameSelector(training_df_NonTransform_list))\n",
    "    ])\n",
    "\n",
    "from sklearn.pipeline import FeatureUnion\n",
    "\n",
    "full_pipeline = FeatureUnion(transformer_list=[\n",
    "    (\"cat_pipeline\", cat_pipeline),    \n",
    "    (\"num_pipeline\", num_pipeline),\n",
    "    ])\n",
    "\n",
    "Final_training_X = full_pipeline.fit_transform(training_df_X)\n",
    "Final_stack_X = full_pipeline.fit_transform(ModelStacking_df_X)\n",
    "Final_test_X = full_pipeline.transform(test_df_X)"
   ]
  },
  {
   "cell_type": "code",
   "execution_count": 310,
   "metadata": {
    "collapsed": true
   },
   "outputs": [],
   "source": [
    "#import the libraries for all the classifiers.\n",
    "\n",
    "from sklearn.ensemble import RandomForestClassifier\n",
    "from sklearn.ensemble import AdaBoostClassifier\n",
    "from sklearn.ensemble import ExtraTreesClassifier\n",
    "from sklearn.ensemble import GradientBoostingClassifier\n",
    "from sklearn.linear_model import LogisticRegression\n",
    "from sklearn.model_selection import GridSearchCV"
   ]
  },
  {
   "cell_type": "code",
   "execution_count": 311,
   "metadata": {},
   "outputs": [
    {
     "name": "stdout",
     "output_type": "stream",
     "text": [
      "Fitting 4 folds for each of 288 candidates, totalling 1152 fits\n"
     ]
    },
    {
     "name": "stderr",
     "output_type": "stream",
     "text": [
      "[Parallel(n_jobs=-1)]: Done  33 tasks      | elapsed:   17.4s\n",
      "[Parallel(n_jobs=-1)]: Done 154 tasks      | elapsed:   55.0s\n",
      "[Parallel(n_jobs=-1)]: Done 357 tasks      | elapsed:  2.6min\n",
      "[Parallel(n_jobs=-1)]: Done 640 tasks      | elapsed:  4.4min\n",
      "[Parallel(n_jobs=-1)]: Done 1005 tasks      | elapsed:  7.2min\n",
      "[Parallel(n_jobs=-1)]: Done 1152 out of 1152 | elapsed:  8.6min finished\n"
     ]
    },
    {
     "name": "stdout",
     "output_type": "stream",
     "text": [
      "{'max_depth': 10, 'max_features': 0.5, 'max_leaf_nodes': 10, 'min_samples_leaf': 0.1, 'min_samples_split': 0.1, 'n_estimators': 200, 'oob_score': True}\n",
      "RandomForestClassifier(bootstrap=True, class_weight=None, criterion='gini',\n",
      "            max_depth=10, max_features=0.5, max_leaf_nodes=10,\n",
      "            min_impurity_decrease=0.0, min_impurity_split=None,\n",
      "            min_samples_leaf=0.1, min_samples_split=0.1,\n",
      "            min_weight_fraction_leaf=0.0, n_estimators=200, n_jobs=1,\n",
      "            oob_score=True, random_state=42, verbose=0, warm_start=False)\n"
     ]
    }
   ],
   "source": [
    "#Design the random forest classifier\n",
    "\n",
    "# Random Forest Classifier\n",
    "\n",
    "n_estimators = [10, 200]\n",
    "max_features = [0.1, 0.5]\n",
    "max_depth = [2, 10, 20] \n",
    "oob_score = [True, False]\n",
    "min_samples_split = [0.1, 0.5]\n",
    "min_samples_leaf = [0.1, 0.5]\n",
    "max_leaf_nodes = [2, 10, 100]\n",
    "\n",
    "parameter_random_forest = {'n_estimators' : n_estimators, 'max_features' : max_features,\n",
    "                     'max_depth' : max_depth, 'min_samples_split' : min_samples_split,\n",
    "                    'oob_score' : oob_score, 'min_samples_leaf': min_samples_leaf, \n",
    "                     'max_leaf_nodes' : max_leaf_nodes}\n",
    "             \n",
    "Random_Forest_Classifier = RandomForestClassifier(random_state = 42)\n",
    "\n",
    "#use grid search to tune the model\n",
    "\n",
    "grid_search_RndmForest = GridSearchCV(Random_Forest_Classifier,parameter_random_forest, cv = 4, scoring='roc_auc', refit = True,\n",
    "                                     n_jobs = -1, verbose=2)\n",
    "\n",
    "grid_search_RndmForest.fit(Final_training_X,training_df_Y)\n",
    "             \n",
    "forest_best_params_ = grid_search_RndmForest.best_params_\n",
    "forest_best_estimators_ = grid_search_RndmForest.best_estimator_\n",
    "\n",
    "print(forest_best_params_)\n",
    "print(forest_best_estimators_)"
   ]
  },
  {
   "cell_type": "code",
   "execution_count": 312,
   "metadata": {
    "scrolled": true
   },
   "outputs": [
    {
     "name": "stdout",
     "output_type": "stream",
     "text": [
      "0.774888888889\n"
     ]
    }
   ],
   "source": [
    "#Now Predict on the Stack Dataset\n",
    "Random_Forest_estimators = forest_best_estimators_\n",
    "y_estimator_forest = Random_Forest_estimators.predict(Final_stack_X)\n",
    "print(accuracy_score(ModelStacking_df_Y, y_estimator_forest))"
   ]
  },
  {
   "cell_type": "code",
   "execution_count": 313,
   "metadata": {},
   "outputs": [
    {
     "name": "stdout",
     "output_type": "stream",
     "text": [
      "0.776222222222\n"
     ]
    }
   ],
   "source": [
    "# Test on the Test Data\n",
    "y_final_estimator_forest = Random_Forest_estimators.predict(Final_test_X)\n",
    "print(accuracy_score(test_df_Y, y_final_estimator_forest))"
   ]
  },
  {
   "cell_type": "markdown",
   "metadata": {},
   "source": [
    "With a better accuracy on the test set when compared with the training set, Random Forest proves out to be a good classifier."
   ]
  },
  {
   "cell_type": "markdown",
   "metadata": {},
   "source": [
    "To identify certain types of events that are classified better/worse from this classifier - we use the confusion matrix"
   ]
  },
  {
   "cell_type": "code",
   "execution_count": 314,
   "metadata": {},
   "outputs": [
    {
     "data": {
      "text/plain": [
       "array([[3487,    0],\n",
       "       [1013,    0]], dtype=int64)"
      ]
     },
     "execution_count": 314,
     "metadata": {},
     "output_type": "execute_result"
    }
   ],
   "source": [
    "#Create the confusion Matrix on the stack set for Random Forest Classifier\n",
    "from sklearn.metrics import confusion_matrix\n",
    "confusion_matrix(ModelStacking_df_Y, y_estimator_forest)"
   ]
  },
  {
   "cell_type": "code",
   "execution_count": 315,
   "metadata": {},
   "outputs": [
    {
     "data": {
      "text/plain": [
       "array([[3493,    0],\n",
       "       [1007,    0]], dtype=int64)"
      ]
     },
     "execution_count": 315,
     "metadata": {},
     "output_type": "execute_result"
    }
   ],
   "source": [
    "#Create the confusion Matrix on the test set for Random Forest Classifier\n",
    "from sklearn.metrics import confusion_matrix\n",
    "confusion_matrix(test_df_Y, y_final_estimator_forest)"
   ]
  },
  {
   "cell_type": "markdown",
   "metadata": {},
   "source": [
    "From the results above, we can see that We have got increased True Positives (more customer's defaulting) and reduced false positives - from stacked / validation set to test set. This also indicates a better accuracy achieved on test set."
   ]
  },
  {
   "cell_type": "markdown",
   "metadata": {},
   "source": [
    "Now we capture the feature importance for the random forest classifer - sorted in ascending order"
   ]
  },
  {
   "cell_type": "code",
   "execution_count": 227,
   "metadata": {},
   "outputs": [
    {
     "name": "stdout",
     "output_type": "stream",
     "text": [
      "SEX 0.0\n",
      "PAY_2 0.0\n",
      "PAY_4 0.0\n",
      "LIMIT_BAL 2.81358049379e-05\n",
      "PAY_6 4.99291287047e-05\n",
      "EDUCATION 0.000212320694719\n",
      "BILL_AMT4 0.00091263474512\n",
      "BILL_AMT5 0.00133570010001\n",
      "PAY_3 0.00140259664563\n",
      "AGE 0.00205676800682\n",
      "PAY_0 0.00220648491687\n",
      "BILL_AMT3 0.00321045824914\n",
      "BILL_AMT6 0.00334079951297\n",
      "BILL_AMT2 0.00489613021661\n",
      "PAY_AMT5 0.00491729445122\n",
      "BILL_AMT1 0.00677123075075\n",
      "PAY_AMT6 0.00693381567949\n",
      "PAY_AMT4 0.0165562094364\n",
      "PAY_AMT3 0.0586180946003\n",
      "PAY_AMT2 0.0867698487916\n",
      "PAY_5 0.186237237022\n",
      "PAY_AMT1 0.186515342298\n",
      "MARRIAGE 0.427028968948\n"
     ]
    }
   ],
   "source": [
    "for name, score in sorted(zip(ModelStacking_df_X.columns, Random_Forest_estimators.feature_importances_), key=lambda x: x[1]):\n",
    "    print(name, score)"
   ]
  },
  {
   "cell_type": "code",
   "execution_count": 154,
   "metadata": {},
   "outputs": [
    {
     "name": "stdout",
     "output_type": "stream",
     "text": [
      "Fitting 4 folds for each of 16 candidates, totalling 64 fits\n"
     ]
    },
    {
     "name": "stderr",
     "output_type": "stream",
     "text": [
      "[Parallel(n_jobs=-1)]: Done  33 tasks      | elapsed:   11.8s\n",
      "[Parallel(n_jobs=-1)]: Done  64 out of  64 | elapsed:   18.1s finished\n"
     ]
    },
    {
     "name": "stdout",
     "output_type": "stream",
     "text": [
      "{'algorithm': 'SAMME.R', 'learning_rate': 0.05, 'n_estimators': 20}\n",
      "AdaBoostClassifier(algorithm='SAMME.R', base_estimator=None,\n",
      "          learning_rate=0.05, n_estimators=20, random_state=42)\n"
     ]
    }
   ],
   "source": [
    "# Now Build the ADA Boost Classifier\n",
    "\n",
    "n_estimators = [5, 10, 15, 20]\n",
    "learning_rate = [0.05, 0.01]\n",
    "algorithm = ['SAMME', 'SAMME.R']\n",
    "\n",
    "Ada_Classifer = AdaBoostClassifier(random_state = 42)\n",
    "parameter_Ada_Classifer = {'n_estimators' : n_estimators, 'learning_rate' : learning_rate, 'algorithm' : algorithm}\n",
    "grid_search_AdaClassifier = GridSearchCV(Ada_Classifer, parameter_Ada_Classifer, cv = 4, scoring='roc_auc', refit = True, n_jobs = -1, verbose = 2)\n",
    "grid_search_AdaClassifier.fit(Final_training_X,training_df_Y)\n",
    "\n",
    "AdaClassifier_best_params_ = grid_search_AdaClassifier.best_params_\n",
    "AdaClassifier_best_estimators_ = grid_search_AdaClassifier.best_estimator_\n",
    "print(AdaClassifier_best_params_)\n",
    "print(AdaClassifier_best_estimators_)"
   ]
  },
  {
   "cell_type": "code",
   "execution_count": 155,
   "metadata": {},
   "outputs": [
    {
     "name": "stdout",
     "output_type": "stream",
     "text": [
      "0.810666666667\n"
     ]
    }
   ],
   "source": [
    "#check accuracy on stack dataset\n",
    "AdaClassifier_Estimators = AdaClassifier_best_estimators_\n",
    "y_estimator_ada = AdaClassifier_Estimators.predict(Final_stack_X)\n",
    "print(accuracy_score(ModelStacking_df_Y, y_estimator_ada))"
   ]
  },
  {
   "cell_type": "code",
   "execution_count": 156,
   "metadata": {},
   "outputs": [
    {
     "name": "stdout",
     "output_type": "stream",
     "text": [
      "0.804444444444\n"
     ]
    }
   ],
   "source": [
    "# Check the accuracy on the Test Data\n",
    "y_final_estimator_ada = AdaClassifier_Estimators.predict(Final_test_X)\n",
    "print(accuracy_score(test_df_Y, y_final_estimator_ada))"
   ]
  },
  {
   "cell_type": "markdown",
   "metadata": {},
   "source": [
    "Now we identify certain types of events that are classified better/worse from ADA classifier - we use the confusion matrix"
   ]
  },
  {
   "cell_type": "code",
   "execution_count": 216,
   "metadata": {},
   "outputs": [
    {
     "data": {
      "text/plain": [
       "array([[3370,  117],\n",
       "       [ 771,  242]], dtype=int64)"
      ]
     },
     "execution_count": 216,
     "metadata": {},
     "output_type": "execute_result"
    }
   ],
   "source": [
    "#Create the confusion Matrix on the stack set for ADA Classifier\n",
    "from sklearn.metrics import confusion_matrix\n",
    "confusion_matrix(ModelStacking_df_Y, y_estimator_ada)"
   ]
  },
  {
   "cell_type": "code",
   "execution_count": 207,
   "metadata": {},
   "outputs": [
    {
     "data": {
      "text/plain": [
       "array([[3220,  273],\n",
       "       [ 921,   86]], dtype=int64)"
      ]
     },
     "execution_count": 207,
     "metadata": {},
     "output_type": "execute_result"
    }
   ],
   "source": [
    "#Create the confusion Matrix on the test set for ADA Classifier\n",
    "from sklearn.metrics import confusion_matrix\n",
    "confusion_matrix(test_df_Y, y_final_estimator_ada)"
   ]
  },
  {
   "cell_type": "markdown",
   "metadata": {},
   "source": [
    "From the results above, we can see that We have got decreased True Positives and false negatives (less customer's defaulting) - from stacked / validation set to test set. This also indicates a better accuracy achieved on test set. Also the False positives and true negatives have increased, leading to a higher misclassification rate and lower accuracy. "
   ]
  },
  {
   "cell_type": "markdown",
   "metadata": {},
   "source": [
    "Note that although the model accuracy for ADA Classifier is lower on the Test Set. The Lower variance could be due to the number of hyper parameters and their values. It is always recommended to check different hyper parameters. The model thus is still performing well and is not a case of overfitting."
   ]
  },
  {
   "cell_type": "markdown",
   "metadata": {},
   "source": [
    "Now we capture the feature importance for the Ada Classifer - Sorted in ascending order"
   ]
  },
  {
   "cell_type": "code",
   "execution_count": 231,
   "metadata": {},
   "outputs": [
    {
     "name": "stdout",
     "output_type": "stream",
     "text": [
      "LIMIT_BAL 0.0\n",
      "SEX 0.0\n",
      "EDUCATION 0.0\n",
      "PAY_2 0.0\n",
      "PAY_3 0.0\n",
      "PAY_4 0.0\n",
      "PAY_5 0.0\n",
      "PAY_6 0.0\n",
      "BILL_AMT1 0.0\n",
      "BILL_AMT2 0.0\n",
      "BILL_AMT3 0.0\n",
      "BILL_AMT4 0.0\n",
      "BILL_AMT5 0.0\n",
      "BILL_AMT6 0.0\n",
      "PAY_AMT1 0.0\n",
      "PAY_AMT2 0.0\n",
      "PAY_AMT3 0.0\n",
      "PAY_AMT4 0.0\n",
      "PAY_AMT5 0.0\n",
      "PAY_AMT6 0.0\n",
      "PAY_0 0.1\n",
      "AGE 0.15\n",
      "MARRIAGE 0.75\n"
     ]
    }
   ],
   "source": [
    "for name, score in sorted(zip(ModelStacking_df_X.columns, AdaClassifier_Estimators.feature_importances_), key=lambda x: x[1]):\n",
    "    print(name, score)"
   ]
  },
  {
   "cell_type": "code",
   "execution_count": 137,
   "metadata": {},
   "outputs": [
    {
     "name": "stdout",
     "output_type": "stream",
     "text": [
      "Fitting 4 folds for each of 144 candidates, totalling 576 fits\n"
     ]
    },
    {
     "name": "stderr",
     "output_type": "stream",
     "text": [
      "[Parallel(n_jobs=-1)]: Done  33 tasks      | elapsed:   11.6s\n",
      "[Parallel(n_jobs=-1)]: Done 154 tasks      | elapsed:   44.2s\n",
      "[Parallel(n_jobs=-1)]: Done 357 tasks      | elapsed:  1.8min\n",
      "[Parallel(n_jobs=-1)]: Done 576 out of 576 | elapsed:  2.7min finished\n"
     ]
    },
    {
     "name": "stdout",
     "output_type": "stream",
     "text": [
      "{'max_depth': 50, 'max_features': 0.5, 'min_samples_leaf': 0.1, 'min_samples_split': 0.1, 'n_estimators': 200}\n",
      "ExtraTreesClassifier(bootstrap=False, class_weight=None, criterion='gini',\n",
      "           max_depth=50, max_features=0.5, max_leaf_nodes=None,\n",
      "           min_impurity_decrease=0.0, min_impurity_split=None,\n",
      "           min_samples_leaf=0.1, min_samples_split=0.1,\n",
      "           min_weight_fraction_leaf=0.0, n_estimators=200, n_jobs=1,\n",
      "           oob_score=False, random_state=42, verbose=0, warm_start=False)\n"
     ]
    }
   ],
   "source": [
    "# The next we build is an Extra Trees Classifier\n",
    "\n",
    "Extra_Classifier = ExtraTreesClassifier(random_state = 42)\n",
    "\n",
    "n_estimators = [3, 70, 100, 200]\n",
    "max_features = [0.1,0.3,0.5]\n",
    "max_depth = [2, 50, 70]\n",
    "min_samples_split = [0.1, 0.5]\n",
    "min_samples_leaf = [0.1, 0.5] # Mhm, this one leads to accuracy of test and train sets being the same.\n",
    "\n",
    "parameter_Extra_Classifier = {'n_estimators' : n_estimators, 'max_features' : max_features,\n",
    "                         'max_depth' : max_depth, 'min_samples_split' : min_samples_split,\n",
    "                         'min_samples_leaf' : min_samples_leaf}\n",
    "\n",
    "grid_search_ExtraClassifier = GridSearchCV(Extra_Classifier, parameter_Extra_Classifier, cv = 4, scoring='roc_auc', \n",
    "                               refit = True, n_jobs = -1, verbose = 2)\n",
    "grid_search_ExtraClassifier.fit(Final_training_X,training_df_Y)\n",
    "\n",
    "Extra_Classifier_best_params_ = grid_search_ExtraClassifier.best_params_\n",
    "Extra_Classifier_best_estimators_ = grid_search_ExtraClassifier.best_estimator_\n",
    "print(Extra_Classifier_best_params_)\n",
    "print(Extra_Classifier_best_estimators_)"
   ]
  },
  {
   "cell_type": "code",
   "execution_count": 138,
   "metadata": {},
   "outputs": [
    {
     "name": "stdout",
     "output_type": "stream",
     "text": [
      "0.774888888889\n"
     ]
    }
   ],
   "source": [
    "#check accuracy on stack data\n",
    "ExtraClassifier_Estimators = Extra_Classifier_best_estimators_\n",
    "y_estimator_extra = ExtraClassifier_Estimators.predict(Final_stack_X)\n",
    "print(accuracy_score(ModelStacking_df_Y, y_estimator_extra))"
   ]
  },
  {
   "cell_type": "code",
   "execution_count": 139,
   "metadata": {
    "scrolled": true
   },
   "outputs": [
    {
     "name": "stdout",
     "output_type": "stream",
     "text": [
      "0.776222222222\n"
     ]
    }
   ],
   "source": [
    "# check the accuracy on the Test Data\n",
    "y_final_estimator_extra = ExtraClassifier_Estimators.predict(Final_test_X)\n",
    "print(accuracy_score(test_df_Y, y_final_estimator_extra))"
   ]
  },
  {
   "cell_type": "markdown",
   "metadata": {},
   "source": [
    "Now we identify certain types of events that are classified better/worse from Extra Trees classifier - we use the confusion matrix"
   ]
  },
  {
   "cell_type": "code",
   "execution_count": 213,
   "metadata": {},
   "outputs": [
    {
     "data": {
      "text/plain": [
       "array([[3487,    0],\n",
       "       [1013,    0]], dtype=int64)"
      ]
     },
     "execution_count": 213,
     "metadata": {},
     "output_type": "execute_result"
    }
   ],
   "source": [
    "#Create the confusion Matrix on the stack set for Extra Classifier\n",
    "from sklearn.metrics import confusion_matrix\n",
    "confusion_matrix(ModelStacking_df_Y, y_estimator_extra)"
   ]
  },
  {
   "cell_type": "code",
   "execution_count": 215,
   "metadata": {},
   "outputs": [
    {
     "data": {
      "text/plain": [
       "array([[3493,    0],\n",
       "       [1007,    0]], dtype=int64)"
      ]
     },
     "execution_count": 215,
     "metadata": {},
     "output_type": "execute_result"
    }
   ],
   "source": [
    "#Create the confusion Matrix on the test set for Extra Classifier\n",
    "from sklearn.metrics import confusion_matrix\n",
    "confusion_matrix(test_df_Y, y_final_estimator_extra)"
   ]
  },
  {
   "cell_type": "markdown",
   "metadata": {},
   "source": [
    "Similar to Random Forest, Extra Classifier receives increased True Positives (more customer's defaulting) and reduced false positives - from stacked / validation set to test set. This also indicates a better accuracy achieved on test set."
   ]
  },
  {
   "cell_type": "markdown",
   "metadata": {},
   "source": [
    "Now we capture the feature importance for the Extra Trees Classifer, sorted in ascending order."
   ]
  },
  {
   "cell_type": "code",
   "execution_count": 238,
   "metadata": {},
   "outputs": [
    {
     "name": "stdout",
     "output_type": "stream",
     "text": [
      "BILL_AMT6 0.00108048461406\n",
      "BILL_AMT5 0.00152516321207\n",
      "PAY_AMT4 0.00162780441778\n",
      "BILL_AMT4 0.00265519204382\n",
      "PAY_AMT3 0.00266480822751\n",
      "PAY_AMT2 0.00290465577983\n",
      "BILL_AMT3 0.00346693738116\n",
      "BILL_AMT2 0.00353706465493\n",
      "PAY_AMT1 0.00356014528872\n",
      "BILL_AMT1 0.00422883550691\n",
      "PAY_AMT6 0.00504973654066\n",
      "PAY_6 0.00520091925493\n",
      "PAY_AMT5 0.00684018186448\n",
      "EDUCATION 0.00766299514003\n",
      "SEX 0.0128472456469\n",
      "PAY_4 0.0669824452564\n",
      "PAY_2 0.0693010642019\n",
      "LIMIT_BAL 0.0822968707389\n",
      "PAY_3 0.0892769408027\n",
      "PAY_5 0.111961144154\n",
      "PAY_0 0.140367203638\n",
      "MARRIAGE 0.168657330985\n",
      "AGE 0.18130483065\n"
     ]
    }
   ],
   "source": [
    "for name, score in sorted(zip(ModelStacking_df_X.columns, ExtraClassifier_Estimators.feature_importances_), key=lambda x: x[1]):\n",
    "    print(name, score)"
   ]
  },
  {
   "cell_type": "markdown",
   "metadata": {},
   "source": [
    "With a better accuracy on the test set when compared with the training set, Extra Trees proves out to be a good classifier."
   ]
  },
  {
   "cell_type": "code",
   "execution_count": 140,
   "metadata": {
    "scrolled": true
   },
   "outputs": [
    {
     "name": "stdout",
     "output_type": "stream",
     "text": [
      "Fitting 4 folds for each of 288 candidates, totalling 1152 fits\n"
     ]
    },
    {
     "name": "stderr",
     "output_type": "stream",
     "text": [
      "[Parallel(n_jobs=-1)]: Done  33 tasks      | elapsed:    6.9s\n",
      "[Parallel(n_jobs=-1)]: Done 154 tasks      | elapsed:   12.6s\n",
      "[Parallel(n_jobs=-1)]: Done 357 tasks      | elapsed:   23.4s\n",
      "[Parallel(n_jobs=-1)]: Done 640 tasks      | elapsed:   38.7s\n",
      "[Parallel(n_jobs=-1)]: Done 1005 tasks      | elapsed:   58.5s\n",
      "[Parallel(n_jobs=-1)]: Done 1152 out of 1152 | elapsed:  1.1min finished\n"
     ]
    },
    {
     "name": "stdout",
     "output_type": "stream",
     "text": [
      "{'learning_rate': 0.1, 'max_depth': 3, 'max_features': 6, 'max_leaf_nodes': 3, 'min_samples_leaf': 3, 'min_samples_split': 0.2, 'n_estimators': 7}\n",
      "GradientBoostingClassifier(criterion='friedman_mse', init=None,\n",
      "              learning_rate=0.1, loss='deviance', max_depth=3,\n",
      "              max_features=6, max_leaf_nodes=3, min_impurity_decrease=0.0,\n",
      "              min_impurity_split=None, min_samples_leaf=3,\n",
      "              min_samples_split=0.2, min_weight_fraction_leaf=0.0,\n",
      "              n_estimators=7, presort='auto', random_state=42,\n",
      "              subsample=1.0, verbose=0, warm_start=False)\n"
     ]
    }
   ],
   "source": [
    "# Gradient Boosting Classifier\n",
    "\n",
    "GB_Classifier = GradientBoostingClassifier(random_state = 42)\n",
    "\n",
    "n_estimators = [3, 7]\n",
    "learning_rate = [0.1, 0.01, .001]\n",
    "max_depth = [3, 15, 20]\n",
    "min_samples_split = [0.2, 0.3]\n",
    "min_samples_leaf = [3, 4]\n",
    "max_features = [4, 6]\n",
    "max_leaf_nodes = [2, 3]\n",
    "                            \n",
    "parameter_GB_Classifier = {'n_estimators' : n_estimators, 'learning_rate' : learning_rate,\n",
    "                              'max_depth' : max_depth, 'min_samples_split' : min_samples_split,\n",
    "                              'min_samples_leaf' : min_samples_leaf, 'max_features' : max_features,\n",
    "                              'max_leaf_nodes' : max_leaf_nodes}\n",
    "\n",
    "grid_search_GB_Classifier = GridSearchCV(GB_Classifier, parameter_GB_Classifier, cv = 4, scoring='roc_auc', \n",
    "                               refit = True, n_jobs = -1, verbose = 2)\n",
    "\n",
    "grid_search_GB_Classifier.fit(Final_training_X,training_df_Y)\n",
    "\n",
    "GB_Classifier_best_params_ = grid_search_GB_Classifier.best_params_\n",
    "\n",
    "GB_Classifier_best_estimators_ = grid_search_GB_Classifier.best_estimator_\n",
    "\n",
    "print(GB_Classifier_best_params_)\n",
    "\n",
    "print(GB_Classifier_best_estimators_)"
   ]
  },
  {
   "cell_type": "code",
   "execution_count": 246,
   "metadata": {},
   "outputs": [
    {
     "name": "stdout",
     "output_type": "stream",
     "text": [
      "0.774888888889\n"
     ]
    }
   ],
   "source": [
    "#Now Predict on the Stack Dataset\n",
    "GB_estimators = GB_Classifier_best_estimators_\n",
    "y_estimator_GB = GB_estimators.predict(Final_stack_X)\n",
    "print(accuracy_score(ModelStacking_df_Y, y_estimator_GB))"
   ]
  },
  {
   "cell_type": "code",
   "execution_count": 237,
   "metadata": {},
   "outputs": [
    {
     "name": "stdout",
     "output_type": "stream",
     "text": [
      "0.776222222222\n"
     ]
    }
   ],
   "source": [
    "# check the accuracy on the Test Data\n",
    "y_final_estimator_GB = GB_estimators.predict(Final_test_X)\n",
    "print(accuracy_score(test_df_Y, y_final_estimator_GB))"
   ]
  },
  {
   "cell_type": "markdown",
   "metadata": {},
   "source": [
    "Now we identify certain types of events that are classified better/worse from Gradient Boosting classifier - we use the confusion matrix"
   ]
  },
  {
   "cell_type": "code",
   "execution_count": 235,
   "metadata": {},
   "outputs": [
    {
     "data": {
      "text/plain": [
       "array([[3487,    0],\n",
       "       [1013,    0]], dtype=int64)"
      ]
     },
     "execution_count": 235,
     "metadata": {},
     "output_type": "execute_result"
    }
   ],
   "source": [
    "#Create the confusion Matrix on the stack set for GB Classifier\n",
    "from sklearn.metrics import confusion_matrix\n",
    "confusion_matrix(ModelStacking_df_Y, y_estimator_GB)"
   ]
  },
  {
   "cell_type": "code",
   "execution_count": 236,
   "metadata": {},
   "outputs": [
    {
     "data": {
      "text/plain": [
       "array([[3493,    0],\n",
       "       [1007,    0]], dtype=int64)"
      ]
     },
     "execution_count": 236,
     "metadata": {},
     "output_type": "execute_result"
    }
   ],
   "source": [
    "#Create the confusion Matrix on the test set for GB Classifier\n",
    "confusion_matrix(test_df_Y, y_final_estimator_GB)"
   ]
  },
  {
   "cell_type": "markdown",
   "metadata": {},
   "source": [
    "Gradient Boosting model also receives higher True Positives (more customer's defaulting) and lower false positives - from stacked / validation set to test set. This also indicates a better accuracy achieved on test set.\n",
    "\n",
    "Now we capture the feature importance for the Gradient Boosting Classifer, sorted in ascending order."
   ]
  },
  {
   "cell_type": "code",
   "execution_count": 240,
   "metadata": {},
   "outputs": [
    {
     "name": "stdout",
     "output_type": "stream",
     "text": [
      "LIMIT_BAL 0.0\n",
      "SEX 0.0\n",
      "EDUCATION 0.0\n",
      "PAY_0 0.0\n",
      "PAY_4 0.0\n",
      "PAY_6 0.0\n",
      "BILL_AMT1 0.0\n",
      "BILL_AMT2 0.0\n",
      "BILL_AMT3 0.0\n",
      "BILL_AMT4 0.0\n",
      "BILL_AMT5 0.0\n",
      "BILL_AMT6 0.0\n",
      "PAY_AMT1 0.0\n",
      "PAY_AMT5 0.0\n",
      "PAY_AMT6 0.0\n",
      "PAY_AMT2 0.0104714350208\n",
      "PAY_5 0.0124766227619\n",
      "PAY_AMT3 0.0125123496832\n",
      "PAY_3 0.016614420628\n",
      "PAY_AMT4 0.026053977783\n",
      "PAY_2 0.259660307931\n",
      "AGE 0.260725313269\n",
      "MARRIAGE 0.401485572923\n"
     ]
    }
   ],
   "source": [
    "for name, score in sorted(zip(ModelStacking_df_X.columns, GB_estimators.feature_importances_), key=lambda x: x[1]):\n",
    "    print(name, score)"
   ]
  },
  {
   "cell_type": "markdown",
   "metadata": {},
   "source": [
    "Note that although the model accuracy for Gradient Boosting Classifier is lower on the Test Set. The Lower variance could be due to the number of hyper parameters and their values. It is always recommended to check different hyper parameters. The model thus is still performing well and is not a case of overfitting."
   ]
  },
  {
   "cell_type": "code",
   "execution_count": 269,
   "metadata": {},
   "outputs": [
    {
     "name": "stdout",
     "output_type": "stream",
     "text": [
      "Fitting 4 folds for each of 6 candidates, totalling 24 fits\n"
     ]
    },
    {
     "name": "stderr",
     "output_type": "stream",
     "text": [
      "[Parallel(n_jobs=-1)]: Done  24 out of  24 | elapsed:    7.2s finished\n"
     ]
    },
    {
     "name": "stdout",
     "output_type": "stream",
     "text": [
      "{'C': 0.3}\n",
      "LogisticRegression(C=0.3, class_weight=None, dual=False, fit_intercept=True,\n",
      "          intercept_scaling=1, max_iter=100, multi_class='ovr', n_jobs=1,\n",
      "          penalty='l2', random_state=42, solver='liblinear', tol=0.0001,\n",
      "          verbose=0, warm_start=False)\n"
     ]
    }
   ],
   "source": [
    "# Create the Logistic Regression model\n",
    "\n",
    "Logistic_Regression = LogisticRegression(random_state = 42)\n",
    "C = [0.0001, 0.001, 0.01, 0.1, 0.2, 0.3]\n",
    "                            \n",
    "parameter_LogReg = {'C' : C}\n",
    "grid_search_LogReg = GridSearchCV(Logistic_Regression, parameter_LogReg, cv = 4, scoring='roc_auc', \n",
    "                               refit = True, n_jobs = -1, verbose = 2)\n",
    "\n",
    "grid_search_LogReg.fit(Final_training_X,training_df_Y)\n",
    "LogReg_best_params_ = grid_search_LogReg.best_params_\n",
    "LogReg_best_estimators_ = grid_search_LogReg.best_estimator_\n",
    "\n",
    "print(LogReg_best_params_)\n",
    "print(LogReg_best_estimators_)"
   ]
  },
  {
   "cell_type": "code",
   "execution_count": 270,
   "metadata": {},
   "outputs": [
    {
     "name": "stdout",
     "output_type": "stream",
     "text": [
      "0.801111111111\n"
     ]
    }
   ],
   "source": [
    "#Now Predict on the Stack Dataset\n",
    "LogReg_estimators = LogReg_best_estimators_ \n",
    "y_estimator_LogReg = LogReg_estimators.predict(Final_stack_X)\n",
    "print(accuracy_score(ModelStacking_df_Y, y_estimator_LogReg))"
   ]
  },
  {
   "cell_type": "code",
   "execution_count": 271,
   "metadata": {},
   "outputs": [
    {
     "name": "stdout",
     "output_type": "stream",
     "text": [
      "0.738888888889\n"
     ]
    }
   ],
   "source": [
    "y_final_estimator_LogReg = LogReg_estimators.predict(Final_stack_X)\n",
    "print(accuracy_score(test_df_Y, y_final_estimator_LogReg))"
   ]
  },
  {
   "cell_type": "markdown",
   "metadata": {},
   "source": [
    "Now we identify certain types of events that are classified better/worse from Logistic Regression - we use the confusion matrix"
   ]
  },
  {
   "cell_type": "code",
   "execution_count": 272,
   "metadata": {},
   "outputs": [
    {
     "data": {
      "text/plain": [
       "array([[3378,  109],\n",
       "       [ 786,  227]], dtype=int64)"
      ]
     },
     "execution_count": 272,
     "metadata": {},
     "output_type": "execute_result"
    }
   ],
   "source": [
    "#Create the confusion Matrix on the stack set for Logistic Regression Classifier\n",
    "from sklearn.metrics import confusion_matrix\n",
    "confusion_matrix(ModelStacking_df_Y, y_estimator_LogReg)"
   ]
  },
  {
   "cell_type": "code",
   "execution_count": 273,
   "metadata": {},
   "outputs": [
    {
     "data": {
      "text/plain": [
       "array([[3241,  252],\n",
       "       [ 923,   84]], dtype=int64)"
      ]
     },
     "execution_count": 273,
     "metadata": {},
     "output_type": "execute_result"
    }
   ],
   "source": [
    "#Create the confusion Matrix on the test set for Logistic Regression Classifier\n",
    "from sklearn.metrics import confusion_matrix\n",
    "confusion_matrix(test_df_Y, y_final_estimator_LogReg)"
   ]
  },
  {
   "cell_type": "markdown",
   "metadata": {},
   "source": [
    "In the logistic regression model, we can observe that True Positives and False Negatives have dropped significantly (the defaults on the credit have reduced) from Stack Set to the test set. This is a good indication of overfitting of data on the stack set. This can also be observed based on the variance in the accuracy of Training and Test Set, The Logistic Regression model is an ideal case of overfitting.\n",
    "\n",
    "##### Please Note: We can't run the feature importance on the Logistic Regression\n",
    "\n",
    "So the Best Models are Random Forest, Gradient Boosting and Extra Trees Classifier - As they fit the data well.Since these models are heavy on Hyper Parameters, we can say that more Hyper parameters improves the model performance."
   ]
  },
  {
   "cell_type": "markdown",
   "metadata": {},
   "source": [
    "##### Conclusion on Feature Importance."
   ]
  },
  {
   "cell_type": "markdown",
   "metadata": {},
   "source": [
    "From the classifiers that support Feature importance. We can say that feature importance is not consistent for all the classifiers"
   ]
  },
  {
   "cell_type": "markdown",
   "metadata": {},
   "source": [
    "PART B of the Second Question\n",
    "- Stack your models. \n",
    "  - Combine the models from the previous section using the stacking approach: \n",
    "    - Choose the model use to combine. Examples are:\n",
    "      - Linear Regression\n",
    "      - Logistic Regression"
   ]
  },
  {
   "cell_type": "code",
   "execution_count": 257,
   "metadata": {},
   "outputs": [
    {
     "data": {
      "text/plain": [
       "(4500, 5)"
      ]
     },
     "execution_count": 257,
     "metadata": {},
     "output_type": "execute_result"
    }
   ],
   "source": [
    "# Now build the Stacking model\n",
    "import numpy as np\n",
    "\n",
    "Final_Stacking_X = np.vstack((y_estimator_forest, y_estimator_ada, y_estimator_extra, \n",
    "                                 y_final_estimator_GB, y_estimator_LogReg))\n",
    "\n",
    "Final_Stacking_X = Final_Stacking_X.T\n",
    "Final_Stacking_X.shape # now we get the right number of rows and columns"
   ]
  },
  {
   "cell_type": "code",
   "execution_count": 274,
   "metadata": {},
   "outputs": [
    {
     "name": "stdout",
     "output_type": "stream",
     "text": [
      "Fitting 4 folds for each of 6 candidates, totalling 24 fits\n",
      "{'C': 0.0001}\n",
      "LogisticRegression(C=0.0001, class_weight=None, dual=False,\n",
      "          fit_intercept=True, intercept_scaling=1, max_iter=100,\n",
      "          multi_class='ovr', n_jobs=1, penalty='l2', random_state=42,\n",
      "          solver='liblinear', tol=0.0001, verbose=0, warm_start=False)\n"
     ]
    },
    {
     "name": "stderr",
     "output_type": "stream",
     "text": [
      "[Parallel(n_jobs=-1)]: Done  24 out of  24 | elapsed:    5.8s finished\n"
     ]
    }
   ],
   "source": [
    "# Additionally we can check the Stack performance on the Logistic Regression model, \n",
    "\n",
    "Logistic_Regression = LogisticRegression(random_state = 42)\n",
    "C = [0.0001, 0.001, 0.01, 0.1, 0.2, 0.3]\n",
    "                            \n",
    "parameter_LogReg = {'C' : C}\n",
    "grid_search_LogReg = GridSearchCV(Logistic_Regression, parameter_LogReg, cv = 4, scoring='roc_auc', \n",
    "                               refit = True, n_jobs = -1, verbose = 2)\n",
    "\n",
    "grid_search_LogReg.fit(Final_Stacking_X,ModelStacking_df_Y)\n",
    "LogReg_New_best_params = grid_search_LogReg.best_params_\n",
    "LogReg_New_best_estimators = grid_search_LogReg.best_estimator_\n",
    "\n",
    "print(LogReg_New_best_params)\n",
    "print(LogReg_New_best_estimators)\n"
   ]
  },
  {
   "cell_type": "code",
   "execution_count": 275,
   "metadata": {},
   "outputs": [
    {
     "name": "stdout",
     "output_type": "stream",
     "text": [
      "0.774888888889\n"
     ]
    }
   ],
   "source": [
    "# Now check the accuracy of the Stacked Training set with the original Model Stacking Y.\n",
    "y_estimator_LogReg = LogReg_New_best_estimators.predict(Final_Stacking_X)\n",
    "print(accuracy_score(ModelStacking_df_Y, y_estimator_LogReg))"
   ]
  },
  {
   "cell_type": "code",
   "execution_count": 276,
   "metadata": {},
   "outputs": [
    {
     "name": "stdout",
     "output_type": "stream",
     "text": [
      "0.776222222222\n"
     ]
    }
   ],
   "source": [
    "# Now check the accuracy of the Stacked Training set with the original Test Y\n",
    "y_final_estimator_LogReg = LogReg_New_best_estimators.predict(Final_Stacking_X)\n",
    "print(accuracy_score(test_df_Y,y_estimator_LogReg))"
   ]
  },
  {
   "cell_type": "markdown",
   "metadata": {},
   "source": [
    "#### Conclusions?"
   ]
  },
  {
   "cell_type": "markdown",
   "metadata": {
    "collapsed": true
   },
   "source": [
    "##### The Stack approach works well with the logistic regression as the accuracy improves on the test set when compared with the original stack/validation set."
   ]
  },
  {
   "cell_type": "markdown",
   "metadata": {},
   "source": [
    "Q. (Optional) If a Decision Tree is overfitting the training set, is it a good idea to try decreasing max_depth?"
   ]
  },
  {
   "cell_type": "markdown",
   "metadata": {},
   "source": [
    "If a Decision Tree is overfitting the training set, it may be a good idea to decrease max_depth, since it will constrain the model and regularize it."
   ]
  },
  {
   "cell_type": "markdown",
   "metadata": {},
   "source": [
    "Q. (Optional) If a Decision Tree is underfitting the training set, is it a good idea to try scaling the input features?"
   ]
  },
  {
   "cell_type": "markdown",
   "metadata": {},
   "source": [
    "In Decision Trees, a small change in the data can lead to completely different boundaries. Scaling here would be a bad idea, instead use hyper-parameters for regularization"
   ]
  },
  {
   "cell_type": "markdown",
   "metadata": {},
   "source": [
    "Q. (Optional) What is the difference between hard and soft voting classifiers?"
   ]
  },
  {
   "cell_type": "markdown",
   "metadata": {},
   "source": [
    "A hard voting classifier counts the votes of each classifier in the ensemble and picks the class that gets the most votes. A soft voting classifier computes the average estimated class probability for each class and picks the class with the highest probability. "
   ]
  },
  {
   "cell_type": "markdown",
   "metadata": {},
   "source": [
    "Q. (Optional) If your AdaBoost ensemble underfits the training data, what hyperparameters should you tweak and how?"
   ]
  },
  {
   "cell_type": "markdown",
   "metadata": {},
   "source": [
    "If your AdaBoost ensemble underfits the training data,  Relaxing the hyperparameters by adding more estimators or increasing a learning rate may help. Heavy regularized model will lead to underfitting on the training dataset."
   ]
  },
  {
   "cell_type": "markdown",
   "metadata": {},
   "source": [
    "Q. (Optional) If your Gradient Boosting ensemble overfits the training set, should you increase or decrease the learning rate?"
   ]
  },
  {
   "cell_type": "markdown",
   "metadata": {},
   "source": [
    "If you Gradient Boosting ensemble model overfits the training set, you should try decreasing the learning rate. \n",
    "\n",
    "Incase of overfitting on the training set, decrease hyperparameters (more regularization)\n",
    "Or else increase hyperparameters (less regularization) in case of underfitting."
   ]
  }
 ],
 "metadata": {
  "anaconda-cloud": {},
  "kernelspec": {
   "display_name": "Python 3",
   "language": "python",
   "name": "python3"
  },
  "language_info": {
   "codemirror_mode": {
    "name": "ipython",
    "version": 3
   },
   "file_extension": ".py",
   "mimetype": "text/x-python",
   "name": "python",
   "nbconvert_exporter": "python",
   "pygments_lexer": "ipython3",
   "version": "3.6.3"
  }
 },
 "nbformat": 4,
 "nbformat_minor": 2
}
